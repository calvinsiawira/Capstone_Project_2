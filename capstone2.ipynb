{
 "cells": [
  {
   "attachments": {},
   "cell_type": "markdown",
   "metadata": {},
   "source": [
    "# Latar Belakang\n",
    "\n",
    "Sebagai creative director dari suatu perusahaan talent management di Amerika Serikat, saya bertanggung jawab dalam mengembangkan nama dan brand perusahaan dan talenta digital yang berada dibawah naungan perusahaan. Setelah melakukan diskusi dengan tim, kita menyimpulkan bahwa salah satu cara yang efektif adalah dengan membuat youtube video yang trending. Kita memilih youtube karena youtube adalah video platform paling populer dan paling banyak dikunjungi per tahunnya. "
   ]
  },
  {
   "attachments": {},
   "cell_type": "markdown",
   "metadata": {},
   "source": [
    "## Pernyataan Masalah\n",
    "\n",
    "Sebagai seorang *data analyst*, kita akan mencoba menjawab pertanyaan berikut:\n",
    "**Bagaimana karakteristik video yang trending?**\n",
    "\n",
    "Dengan mengetahui **karakteristik apa saja yang dapat membuat suatu video menjadi trending**, kita dapat:\n",
    "1) Memperlebar exposure perusahaan dan talenta digital perusahaan kepada masyarakat luas\n",
    "2) Menarik sponsor atau brand yang ingin melakukan kerja sama dengan perusuahaan atau talent perusahaan"
   ]
  },
  {
   "attachments": {},
   "cell_type": "markdown",
   "metadata": {},
   "source": [
    "# Data\n",
    "Kita akan menganalisa data yang berisi video youtube yang trending di US untuk tahun 2017 dan 2018. \n",
    "Dataset dapat diakses [di sini](https://www.kaggle.com/datasets/datasnaek/youtube-new). "
   ]
  },
  {
   "cell_type": "code",
   "execution_count": 246,
   "metadata": {},
   "outputs": [],
   "source": [
    "# Import library\n",
    "import pandas as pd\n",
    "import numpy as np\n",
    "import matplotlib.pyplot as plt\n",
    "import seaborn as sns\n",
    "import json\n",
    "\n",
    "from collections import Counter\n",
    "import datetime\n",
    "\n",
    "import nltk\n",
    "from nltk.corpus import stopwords\n",
    "\n",
    "import warnings\n",
    "warnings.filterwarnings(\"ignore\")"
   ]
  },
  {
   "cell_type": "code",
   "execution_count": 247,
   "metadata": {},
   "outputs": [],
   "source": [
    "# READ FILE\n",
    "df = pd.read_csv('USvideos.csv')"
   ]
  },
  {
   "attachments": {},
   "cell_type": "markdown",
   "metadata": {},
   "source": [
    "Dataset ini berisi informasi terkait setiap video yang trending seperti judul video, nama channel, tanggal trending, jumlah views, jumlah comment dan lain-lain. Secara total, ada 16 kolom di dalam dataset trending youtube, yaitu:  \n",
    "\n",
    "* video_id : ID unik untuk setiap video\n",
    "* trending_date : tanggal video tersebut trending\n",
    "* title : judul video\n",
    "* channel_title : nama channel yang mempublish/mengupload video\n",
    "* category_id : kode unik kategori (setiap kategori memiliki kode unik)\n",
    "* publish_time : kapan video tersebut di upload ke youtube\n",
    "* tags : kata-kata deskriptif yang bisa membantu viewers mencari konten tertentu di youtube berdasarkan kata tersebut\n",
    "* views : jumlah penonton video tersebut\n",
    "* likes : jumlah penonton yang menyukai video tersebut (dengan menekan tombol like di youtube)\n",
    "* dislikes : jumlah penonton yang tidak menyukai video tersebut (dengan menekan tombol dislike di youtube)\n",
    "* comment_count : jumlah comment yang ditulis penonton untuk video tersebut\n",
    "* thumbnail_link : link yang digunakan sebagai cover photo dari youtube video tersebut\n",
    "* comments_disabled : apakah video kreator tersebut membolehkan penonton untuk menulis comment (Yes or No)\n",
    "* ratings_disabled : apakah video tersebut memiliki rating yang meng-kategorikan video berdasarkan explicit language/violence/nudity/drug references dan sexual references (Yes or No)\n",
    "* video_error_or_removed : apakah video tersebut pernah error (misalnya: gagal upload) atau removed (dihapus dari youtube) (YES or NO)\n",
    "* description : teks yang ditulis konten kreator untuk mendeskripsikan video mereka\n",
    "\n",
    "Berikut 5 baris teratas dan terbawah dari dataset youtube trending videos."
   ]
  },
  {
   "cell_type": "code",
   "execution_count": 248,
   "metadata": {},
   "outputs": [
    {
     "data": {
      "text/html": [
       "<div>\n",
       "<style scoped>\n",
       "    .dataframe tbody tr th:only-of-type {\n",
       "        vertical-align: middle;\n",
       "    }\n",
       "\n",
       "    .dataframe tbody tr th {\n",
       "        vertical-align: top;\n",
       "    }\n",
       "\n",
       "    .dataframe thead th {\n",
       "        text-align: right;\n",
       "    }\n",
       "</style>\n",
       "<table border=\"1\" class=\"dataframe\">\n",
       "  <thead>\n",
       "    <tr style=\"text-align: right;\">\n",
       "      <th></th>\n",
       "      <th>video_id</th>\n",
       "      <th>trending_date</th>\n",
       "      <th>title</th>\n",
       "      <th>channel_title</th>\n",
       "      <th>category_id</th>\n",
       "      <th>publish_time</th>\n",
       "      <th>tags</th>\n",
       "      <th>views</th>\n",
       "      <th>likes</th>\n",
       "      <th>dislikes</th>\n",
       "      <th>comment_count</th>\n",
       "      <th>thumbnail_link</th>\n",
       "      <th>comments_disabled</th>\n",
       "      <th>ratings_disabled</th>\n",
       "      <th>video_error_or_removed</th>\n",
       "      <th>description</th>\n",
       "    </tr>\n",
       "  </thead>\n",
       "  <tbody>\n",
       "    <tr>\n",
       "      <th>0</th>\n",
       "      <td>2kyS6SvSYSE</td>\n",
       "      <td>17.14.11</td>\n",
       "      <td>WE WANT TO TALK ABOUT OUR MARRIAGE</td>\n",
       "      <td>CaseyNeistat</td>\n",
       "      <td>22</td>\n",
       "      <td>2017-11-13T17:13:01.000Z</td>\n",
       "      <td>SHANtell martin</td>\n",
       "      <td>748374</td>\n",
       "      <td>57527</td>\n",
       "      <td>2966</td>\n",
       "      <td>15954</td>\n",
       "      <td>https://i.ytimg.com/vi/2kyS6SvSYSE/default.jpg</td>\n",
       "      <td>False</td>\n",
       "      <td>False</td>\n",
       "      <td>False</td>\n",
       "      <td>SHANTELL'S CHANNEL - https://www.youtube.com/s...</td>\n",
       "    </tr>\n",
       "    <tr>\n",
       "      <th>1</th>\n",
       "      <td>1ZAPwfrtAFY</td>\n",
       "      <td>17.14.11</td>\n",
       "      <td>The Trump Presidency: Last Week Tonight with J...</td>\n",
       "      <td>LastWeekTonight</td>\n",
       "      <td>24</td>\n",
       "      <td>2017-11-13T07:30:00.000Z</td>\n",
       "      <td>last week tonight trump presidency|\"last week ...</td>\n",
       "      <td>2418783</td>\n",
       "      <td>97185</td>\n",
       "      <td>6146</td>\n",
       "      <td>12703</td>\n",
       "      <td>https://i.ytimg.com/vi/1ZAPwfrtAFY/default.jpg</td>\n",
       "      <td>False</td>\n",
       "      <td>False</td>\n",
       "      <td>False</td>\n",
       "      <td>One year after the presidential election, John...</td>\n",
       "    </tr>\n",
       "    <tr>\n",
       "      <th>2</th>\n",
       "      <td>5qpjK5DgCt4</td>\n",
       "      <td>17.14.11</td>\n",
       "      <td>Racist Superman | Rudy Mancuso, King Bach &amp; Le...</td>\n",
       "      <td>Rudy Mancuso</td>\n",
       "      <td>23</td>\n",
       "      <td>2017-11-12T19:05:24.000Z</td>\n",
       "      <td>racist superman|\"rudy\"|\"mancuso\"|\"king\"|\"bach\"...</td>\n",
       "      <td>3191434</td>\n",
       "      <td>146033</td>\n",
       "      <td>5339</td>\n",
       "      <td>8181</td>\n",
       "      <td>https://i.ytimg.com/vi/5qpjK5DgCt4/default.jpg</td>\n",
       "      <td>False</td>\n",
       "      <td>False</td>\n",
       "      <td>False</td>\n",
       "      <td>WATCH MY PREVIOUS VIDEO ▶ \\n\\nSUBSCRIBE ► http...</td>\n",
       "    </tr>\n",
       "    <tr>\n",
       "      <th>3</th>\n",
       "      <td>puqaWrEC7tY</td>\n",
       "      <td>17.14.11</td>\n",
       "      <td>Nickelback Lyrics: Real or Fake?</td>\n",
       "      <td>Good Mythical Morning</td>\n",
       "      <td>24</td>\n",
       "      <td>2017-11-13T11:00:04.000Z</td>\n",
       "      <td>rhett and link|\"gmm\"|\"good mythical morning\"|\"...</td>\n",
       "      <td>343168</td>\n",
       "      <td>10172</td>\n",
       "      <td>666</td>\n",
       "      <td>2146</td>\n",
       "      <td>https://i.ytimg.com/vi/puqaWrEC7tY/default.jpg</td>\n",
       "      <td>False</td>\n",
       "      <td>False</td>\n",
       "      <td>False</td>\n",
       "      <td>Today we find out if Link is a Nickelback amat...</td>\n",
       "    </tr>\n",
       "    <tr>\n",
       "      <th>4</th>\n",
       "      <td>d380meD0W0M</td>\n",
       "      <td>17.14.11</td>\n",
       "      <td>I Dare You: GOING BALD!?</td>\n",
       "      <td>nigahiga</td>\n",
       "      <td>24</td>\n",
       "      <td>2017-11-12T18:01:41.000Z</td>\n",
       "      <td>ryan|\"higa\"|\"higatv\"|\"nigahiga\"|\"i dare you\"|\"...</td>\n",
       "      <td>2095731</td>\n",
       "      <td>132235</td>\n",
       "      <td>1989</td>\n",
       "      <td>17518</td>\n",
       "      <td>https://i.ytimg.com/vi/d380meD0W0M/default.jpg</td>\n",
       "      <td>False</td>\n",
       "      <td>False</td>\n",
       "      <td>False</td>\n",
       "      <td>I know it's been a while since we did this sho...</td>\n",
       "    </tr>\n",
       "  </tbody>\n",
       "</table>\n",
       "</div>"
      ],
      "text/plain": [
       "      video_id trending_date  \\\n",
       "0  2kyS6SvSYSE      17.14.11   \n",
       "1  1ZAPwfrtAFY      17.14.11   \n",
       "2  5qpjK5DgCt4      17.14.11   \n",
       "3  puqaWrEC7tY      17.14.11   \n",
       "4  d380meD0W0M      17.14.11   \n",
       "\n",
       "                                               title          channel_title  \\\n",
       "0                 WE WANT TO TALK ABOUT OUR MARRIAGE           CaseyNeistat   \n",
       "1  The Trump Presidency: Last Week Tonight with J...        LastWeekTonight   \n",
       "2  Racist Superman | Rudy Mancuso, King Bach & Le...           Rudy Mancuso   \n",
       "3                   Nickelback Lyrics: Real or Fake?  Good Mythical Morning   \n",
       "4                           I Dare You: GOING BALD!?               nigahiga   \n",
       "\n",
       "   category_id              publish_time  \\\n",
       "0           22  2017-11-13T17:13:01.000Z   \n",
       "1           24  2017-11-13T07:30:00.000Z   \n",
       "2           23  2017-11-12T19:05:24.000Z   \n",
       "3           24  2017-11-13T11:00:04.000Z   \n",
       "4           24  2017-11-12T18:01:41.000Z   \n",
       "\n",
       "                                                tags    views   likes  \\\n",
       "0                                    SHANtell martin   748374   57527   \n",
       "1  last week tonight trump presidency|\"last week ...  2418783   97185   \n",
       "2  racist superman|\"rudy\"|\"mancuso\"|\"king\"|\"bach\"...  3191434  146033   \n",
       "3  rhett and link|\"gmm\"|\"good mythical morning\"|\"...   343168   10172   \n",
       "4  ryan|\"higa\"|\"higatv\"|\"nigahiga\"|\"i dare you\"|\"...  2095731  132235   \n",
       "\n",
       "   dislikes  comment_count                                  thumbnail_link  \\\n",
       "0      2966          15954  https://i.ytimg.com/vi/2kyS6SvSYSE/default.jpg   \n",
       "1      6146          12703  https://i.ytimg.com/vi/1ZAPwfrtAFY/default.jpg   \n",
       "2      5339           8181  https://i.ytimg.com/vi/5qpjK5DgCt4/default.jpg   \n",
       "3       666           2146  https://i.ytimg.com/vi/puqaWrEC7tY/default.jpg   \n",
       "4      1989          17518  https://i.ytimg.com/vi/d380meD0W0M/default.jpg   \n",
       "\n",
       "   comments_disabled  ratings_disabled  video_error_or_removed  \\\n",
       "0              False             False                   False   \n",
       "1              False             False                   False   \n",
       "2              False             False                   False   \n",
       "3              False             False                   False   \n",
       "4              False             False                   False   \n",
       "\n",
       "                                         description  \n",
       "0  SHANTELL'S CHANNEL - https://www.youtube.com/s...  \n",
       "1  One year after the presidential election, John...  \n",
       "2  WATCH MY PREVIOUS VIDEO ▶ \\n\\nSUBSCRIBE ► http...  \n",
       "3  Today we find out if Link is a Nickelback amat...  \n",
       "4  I know it's been a while since we did this sho...  "
      ]
     },
     "metadata": {},
     "output_type": "display_data"
    },
    {
     "data": {
      "text/html": [
       "<div>\n",
       "<style scoped>\n",
       "    .dataframe tbody tr th:only-of-type {\n",
       "        vertical-align: middle;\n",
       "    }\n",
       "\n",
       "    .dataframe tbody tr th {\n",
       "        vertical-align: top;\n",
       "    }\n",
       "\n",
       "    .dataframe thead th {\n",
       "        text-align: right;\n",
       "    }\n",
       "</style>\n",
       "<table border=\"1\" class=\"dataframe\">\n",
       "  <thead>\n",
       "    <tr style=\"text-align: right;\">\n",
       "      <th></th>\n",
       "      <th>video_id</th>\n",
       "      <th>trending_date</th>\n",
       "      <th>title</th>\n",
       "      <th>channel_title</th>\n",
       "      <th>category_id</th>\n",
       "      <th>publish_time</th>\n",
       "      <th>tags</th>\n",
       "      <th>views</th>\n",
       "      <th>likes</th>\n",
       "      <th>dislikes</th>\n",
       "      <th>comment_count</th>\n",
       "      <th>thumbnail_link</th>\n",
       "      <th>comments_disabled</th>\n",
       "      <th>ratings_disabled</th>\n",
       "      <th>video_error_or_removed</th>\n",
       "      <th>description</th>\n",
       "    </tr>\n",
       "  </thead>\n",
       "  <tbody>\n",
       "    <tr>\n",
       "      <th>40944</th>\n",
       "      <td>BZt0qjTWNhw</td>\n",
       "      <td>18.14.06</td>\n",
       "      <td>The Cat Who Caught the Laser</td>\n",
       "      <td>AaronsAnimals</td>\n",
       "      <td>15</td>\n",
       "      <td>2018-05-18T13:00:04.000Z</td>\n",
       "      <td>aarons animals|\"aarons\"|\"animals\"|\"cat\"|\"cats\"...</td>\n",
       "      <td>1685609</td>\n",
       "      <td>38160</td>\n",
       "      <td>1385</td>\n",
       "      <td>2657</td>\n",
       "      <td>https://i.ytimg.com/vi/BZt0qjTWNhw/default.jpg</td>\n",
       "      <td>False</td>\n",
       "      <td>False</td>\n",
       "      <td>False</td>\n",
       "      <td>The Cat Who Caught the Laser - Aaron's Animals</td>\n",
       "    </tr>\n",
       "    <tr>\n",
       "      <th>40945</th>\n",
       "      <td>1h7KV2sjUWY</td>\n",
       "      <td>18.14.06</td>\n",
       "      <td>True Facts : Ant Mutualism</td>\n",
       "      <td>zefrank1</td>\n",
       "      <td>22</td>\n",
       "      <td>2018-05-18T01:00:06.000Z</td>\n",
       "      <td>[none]</td>\n",
       "      <td>1064798</td>\n",
       "      <td>60008</td>\n",
       "      <td>382</td>\n",
       "      <td>3936</td>\n",
       "      <td>https://i.ytimg.com/vi/1h7KV2sjUWY/default.jpg</td>\n",
       "      <td>False</td>\n",
       "      <td>False</td>\n",
       "      <td>False</td>\n",
       "      <td>NaN</td>\n",
       "    </tr>\n",
       "    <tr>\n",
       "      <th>40946</th>\n",
       "      <td>D6Oy4LfoqsU</td>\n",
       "      <td>18.14.06</td>\n",
       "      <td>I GAVE SAFIYA NYGAARD A PERFECT HAIR MAKEOVER ...</td>\n",
       "      <td>Brad Mondo</td>\n",
       "      <td>24</td>\n",
       "      <td>2018-05-18T17:34:22.000Z</td>\n",
       "      <td>I gave safiya nygaard a perfect hair makeover ...</td>\n",
       "      <td>1066451</td>\n",
       "      <td>48068</td>\n",
       "      <td>1032</td>\n",
       "      <td>3992</td>\n",
       "      <td>https://i.ytimg.com/vi/D6Oy4LfoqsU/default.jpg</td>\n",
       "      <td>False</td>\n",
       "      <td>False</td>\n",
       "      <td>False</td>\n",
       "      <td>I had so much fun transforming Safiyas hair in...</td>\n",
       "    </tr>\n",
       "    <tr>\n",
       "      <th>40947</th>\n",
       "      <td>oV0zkMe1K8s</td>\n",
       "      <td>18.14.06</td>\n",
       "      <td>How Black Panther Should Have Ended</td>\n",
       "      <td>How It Should Have Ended</td>\n",
       "      <td>1</td>\n",
       "      <td>2018-05-17T17:00:04.000Z</td>\n",
       "      <td>Black Panther|\"HISHE\"|\"Marvel\"|\"Infinity War\"|...</td>\n",
       "      <td>5660813</td>\n",
       "      <td>192957</td>\n",
       "      <td>2846</td>\n",
       "      <td>13088</td>\n",
       "      <td>https://i.ytimg.com/vi/oV0zkMe1K8s/default.jpg</td>\n",
       "      <td>False</td>\n",
       "      <td>False</td>\n",
       "      <td>False</td>\n",
       "      <td>How Black Panther Should Have EndedWatch More ...</td>\n",
       "    </tr>\n",
       "    <tr>\n",
       "      <th>40948</th>\n",
       "      <td>ooyjaVdt-jA</td>\n",
       "      <td>18.14.06</td>\n",
       "      <td>Official Call of Duty®: Black Ops 4 — Multipla...</td>\n",
       "      <td>Call of Duty</td>\n",
       "      <td>20</td>\n",
       "      <td>2018-05-17T17:09:38.000Z</td>\n",
       "      <td>call of duty|\"cod\"|\"activision\"|\"Black Ops 4\"</td>\n",
       "      <td>10306119</td>\n",
       "      <td>357079</td>\n",
       "      <td>212976</td>\n",
       "      <td>144795</td>\n",
       "      <td>https://i.ytimg.com/vi/ooyjaVdt-jA/default.jpg</td>\n",
       "      <td>False</td>\n",
       "      <td>False</td>\n",
       "      <td>False</td>\n",
       "      <td>Call of Duty: Black Ops 4 Multiplayer raises t...</td>\n",
       "    </tr>\n",
       "  </tbody>\n",
       "</table>\n",
       "</div>"
      ],
      "text/plain": [
       "          video_id trending_date  \\\n",
       "40944  BZt0qjTWNhw      18.14.06   \n",
       "40945  1h7KV2sjUWY      18.14.06   \n",
       "40946  D6Oy4LfoqsU      18.14.06   \n",
       "40947  oV0zkMe1K8s      18.14.06   \n",
       "40948  ooyjaVdt-jA      18.14.06   \n",
       "\n",
       "                                                   title  \\\n",
       "40944                       The Cat Who Caught the Laser   \n",
       "40945                         True Facts : Ant Mutualism   \n",
       "40946  I GAVE SAFIYA NYGAARD A PERFECT HAIR MAKEOVER ...   \n",
       "40947                How Black Panther Should Have Ended   \n",
       "40948  Official Call of Duty®: Black Ops 4 — Multipla...   \n",
       "\n",
       "                  channel_title  category_id              publish_time  \\\n",
       "40944             AaronsAnimals           15  2018-05-18T13:00:04.000Z   \n",
       "40945                  zefrank1           22  2018-05-18T01:00:06.000Z   \n",
       "40946                Brad Mondo           24  2018-05-18T17:34:22.000Z   \n",
       "40947  How It Should Have Ended            1  2018-05-17T17:00:04.000Z   \n",
       "40948              Call of Duty           20  2018-05-17T17:09:38.000Z   \n",
       "\n",
       "                                                    tags     views   likes  \\\n",
       "40944  aarons animals|\"aarons\"|\"animals\"|\"cat\"|\"cats\"...   1685609   38160   \n",
       "40945                                             [none]   1064798   60008   \n",
       "40946  I gave safiya nygaard a perfect hair makeover ...   1066451   48068   \n",
       "40947  Black Panther|\"HISHE\"|\"Marvel\"|\"Infinity War\"|...   5660813  192957   \n",
       "40948      call of duty|\"cod\"|\"activision\"|\"Black Ops 4\"  10306119  357079   \n",
       "\n",
       "       dislikes  comment_count  \\\n",
       "40944      1385           2657   \n",
       "40945       382           3936   \n",
       "40946      1032           3992   \n",
       "40947      2846          13088   \n",
       "40948    212976         144795   \n",
       "\n",
       "                                       thumbnail_link  comments_disabled  \\\n",
       "40944  https://i.ytimg.com/vi/BZt0qjTWNhw/default.jpg              False   \n",
       "40945  https://i.ytimg.com/vi/1h7KV2sjUWY/default.jpg              False   \n",
       "40946  https://i.ytimg.com/vi/D6Oy4LfoqsU/default.jpg              False   \n",
       "40947  https://i.ytimg.com/vi/oV0zkMe1K8s/default.jpg              False   \n",
       "40948  https://i.ytimg.com/vi/ooyjaVdt-jA/default.jpg              False   \n",
       "\n",
       "       ratings_disabled  video_error_or_removed  \\\n",
       "40944             False                   False   \n",
       "40945             False                   False   \n",
       "40946             False                   False   \n",
       "40947             False                   False   \n",
       "40948             False                   False   \n",
       "\n",
       "                                             description  \n",
       "40944     The Cat Who Caught the Laser - Aaron's Animals  \n",
       "40945                                                NaN  \n",
       "40946  I had so much fun transforming Safiyas hair in...  \n",
       "40947  How Black Panther Should Have EndedWatch More ...  \n",
       "40948  Call of Duty: Black Ops 4 Multiplayer raises t...  "
      ]
     },
     "metadata": {},
     "output_type": "display_data"
    }
   ],
   "source": [
    "display(df.head(),df.tail())"
   ]
  },
  {
   "attachments": {},
   "cell_type": "markdown",
   "metadata": {},
   "source": [
    "## 1. Data Understanding and Cleaning\n",
    "Sebelum masuk ke dalam analisis, kita perlu mengenal dataset kita lebih jauh dalam tahapan *data understanding*. Dari proses ini, kita akan lebih mengenal data apa saja yang bisa kita olah beserta anomali-anomali yang terdapat di dalam dataset kita (jika ada) yang perlu ditangani dalam tahapan *data cleaning*. Setiap penangan anomali yang dilakukan, akan disertai dengan justifikasi langkah yang diambil, baik secara *domain knowledge* maupun secara statistik.\n",
    "\n",
    "Pertama, mari kita lihat informasi dari dataset *youtube trending*."
   ]
  },
  {
   "cell_type": "code",
   "execution_count": 249,
   "metadata": {},
   "outputs": [
    {
     "name": "stdout",
     "output_type": "stream",
     "text": [
      "Jumlah baris dan kolom di dataset df adalah (40949, 16)\n",
      "<class 'pandas.core.frame.DataFrame'>\n",
      "RangeIndex: 40949 entries, 0 to 40948\n",
      "Data columns (total 16 columns):\n",
      " #   Column                  Non-Null Count  Dtype \n",
      "---  ------                  --------------  ----- \n",
      " 0   video_id                40949 non-null  object\n",
      " 1   trending_date           40949 non-null  object\n",
      " 2   title                   40949 non-null  object\n",
      " 3   channel_title           40949 non-null  object\n",
      " 4   category_id             40949 non-null  int64 \n",
      " 5   publish_time            40949 non-null  object\n",
      " 6   tags                    40949 non-null  object\n",
      " 7   views                   40949 non-null  int64 \n",
      " 8   likes                   40949 non-null  int64 \n",
      " 9   dislikes                40949 non-null  int64 \n",
      " 10  comment_count           40949 non-null  int64 \n",
      " 11  thumbnail_link          40949 non-null  object\n",
      " 12  comments_disabled       40949 non-null  bool  \n",
      " 13  ratings_disabled        40949 non-null  bool  \n",
      " 14  video_error_or_removed  40949 non-null  bool  \n",
      " 15  description             40379 non-null  object\n",
      "dtypes: bool(3), int64(5), object(8)\n",
      "memory usage: 4.2+ MB\n"
     ]
    }
   ],
   "source": [
    "print(f'Jumlah baris dan kolom di dataset df adalah {df.shape}')\n",
    "df.info()"
   ]
  },
  {
   "cell_type": "code",
   "execution_count": 250,
   "metadata": {},
   "outputs": [
    {
     "data": {
      "text/html": [
       "<div>\n",
       "<style scoped>\n",
       "    .dataframe tbody tr th:only-of-type {\n",
       "        vertical-align: middle;\n",
       "    }\n",
       "\n",
       "    .dataframe tbody tr th {\n",
       "        vertical-align: top;\n",
       "    }\n",
       "\n",
       "    .dataframe thead th {\n",
       "        text-align: right;\n",
       "    }\n",
       "</style>\n",
       "<table border=\"1\" class=\"dataframe\">\n",
       "  <thead>\n",
       "    <tr style=\"text-align: right;\">\n",
       "      <th></th>\n",
       "      <th>category_id</th>\n",
       "      <th>views</th>\n",
       "      <th>likes</th>\n",
       "      <th>dislikes</th>\n",
       "      <th>comment_count</th>\n",
       "    </tr>\n",
       "  </thead>\n",
       "  <tbody>\n",
       "    <tr>\n",
       "      <th>count</th>\n",
       "      <td>40949.000000</td>\n",
       "      <td>4.094900e+04</td>\n",
       "      <td>4.094900e+04</td>\n",
       "      <td>4.094900e+04</td>\n",
       "      <td>4.094900e+04</td>\n",
       "    </tr>\n",
       "    <tr>\n",
       "      <th>mean</th>\n",
       "      <td>19.972429</td>\n",
       "      <td>2.360785e+06</td>\n",
       "      <td>7.426670e+04</td>\n",
       "      <td>3.711401e+03</td>\n",
       "      <td>8.446804e+03</td>\n",
       "    </tr>\n",
       "    <tr>\n",
       "      <th>std</th>\n",
       "      <td>7.568327</td>\n",
       "      <td>7.394114e+06</td>\n",
       "      <td>2.288853e+05</td>\n",
       "      <td>2.902971e+04</td>\n",
       "      <td>3.743049e+04</td>\n",
       "    </tr>\n",
       "    <tr>\n",
       "      <th>min</th>\n",
       "      <td>1.000000</td>\n",
       "      <td>5.490000e+02</td>\n",
       "      <td>0.000000e+00</td>\n",
       "      <td>0.000000e+00</td>\n",
       "      <td>0.000000e+00</td>\n",
       "    </tr>\n",
       "    <tr>\n",
       "      <th>25%</th>\n",
       "      <td>17.000000</td>\n",
       "      <td>2.423290e+05</td>\n",
       "      <td>5.424000e+03</td>\n",
       "      <td>2.020000e+02</td>\n",
       "      <td>6.140000e+02</td>\n",
       "    </tr>\n",
       "    <tr>\n",
       "      <th>50%</th>\n",
       "      <td>24.000000</td>\n",
       "      <td>6.818610e+05</td>\n",
       "      <td>1.809100e+04</td>\n",
       "      <td>6.310000e+02</td>\n",
       "      <td>1.856000e+03</td>\n",
       "    </tr>\n",
       "    <tr>\n",
       "      <th>75%</th>\n",
       "      <td>25.000000</td>\n",
       "      <td>1.823157e+06</td>\n",
       "      <td>5.541700e+04</td>\n",
       "      <td>1.938000e+03</td>\n",
       "      <td>5.755000e+03</td>\n",
       "    </tr>\n",
       "    <tr>\n",
       "      <th>max</th>\n",
       "      <td>43.000000</td>\n",
       "      <td>2.252119e+08</td>\n",
       "      <td>5.613827e+06</td>\n",
       "      <td>1.674420e+06</td>\n",
       "      <td>1.361580e+06</td>\n",
       "    </tr>\n",
       "  </tbody>\n",
       "</table>\n",
       "</div>"
      ],
      "text/plain": [
       "        category_id         views         likes      dislikes  comment_count\n",
       "count  40949.000000  4.094900e+04  4.094900e+04  4.094900e+04   4.094900e+04\n",
       "mean      19.972429  2.360785e+06  7.426670e+04  3.711401e+03   8.446804e+03\n",
       "std        7.568327  7.394114e+06  2.288853e+05  2.902971e+04   3.743049e+04\n",
       "min        1.000000  5.490000e+02  0.000000e+00  0.000000e+00   0.000000e+00\n",
       "25%       17.000000  2.423290e+05  5.424000e+03  2.020000e+02   6.140000e+02\n",
       "50%       24.000000  6.818610e+05  1.809100e+04  6.310000e+02   1.856000e+03\n",
       "75%       25.000000  1.823157e+06  5.541700e+04  1.938000e+03   5.755000e+03\n",
       "max       43.000000  2.252119e+08  5.613827e+06  1.674420e+06   1.361580e+06"
      ]
     },
     "metadata": {},
     "output_type": "display_data"
    },
    {
     "data": {
      "text/html": [
       "<div>\n",
       "<style scoped>\n",
       "    .dataframe tbody tr th:only-of-type {\n",
       "        vertical-align: middle;\n",
       "    }\n",
       "\n",
       "    .dataframe tbody tr th {\n",
       "        vertical-align: top;\n",
       "    }\n",
       "\n",
       "    .dataframe thead th {\n",
       "        text-align: right;\n",
       "    }\n",
       "</style>\n",
       "<table border=\"1\" class=\"dataframe\">\n",
       "  <thead>\n",
       "    <tr style=\"text-align: right;\">\n",
       "      <th></th>\n",
       "      <th>video_id</th>\n",
       "      <th>trending_date</th>\n",
       "      <th>title</th>\n",
       "      <th>channel_title</th>\n",
       "      <th>publish_time</th>\n",
       "      <th>tags</th>\n",
       "      <th>thumbnail_link</th>\n",
       "      <th>description</th>\n",
       "    </tr>\n",
       "  </thead>\n",
       "  <tbody>\n",
       "    <tr>\n",
       "      <th>count</th>\n",
       "      <td>40949</td>\n",
       "      <td>40949</td>\n",
       "      <td>40949</td>\n",
       "      <td>40949</td>\n",
       "      <td>40949</td>\n",
       "      <td>40949</td>\n",
       "      <td>40949</td>\n",
       "      <td>40379</td>\n",
       "    </tr>\n",
       "    <tr>\n",
       "      <th>unique</th>\n",
       "      <td>6351</td>\n",
       "      <td>205</td>\n",
       "      <td>6455</td>\n",
       "      <td>2207</td>\n",
       "      <td>6269</td>\n",
       "      <td>6055</td>\n",
       "      <td>6352</td>\n",
       "      <td>6901</td>\n",
       "    </tr>\n",
       "    <tr>\n",
       "      <th>top</th>\n",
       "      <td>j4KvrAUjn6c</td>\n",
       "      <td>17.14.11</td>\n",
       "      <td>WE MADE OUR MOM CRY...HER DREAM CAME TRUE!</td>\n",
       "      <td>ESPN</td>\n",
       "      <td>2018-05-18T14:00:04.000Z</td>\n",
       "      <td>[none]</td>\n",
       "      <td>https://i.ytimg.com/vi/j4KvrAUjn6c/default.jpg</td>\n",
       "      <td>► Listen LIVE: http://power1051fm.com/\\n► Face...</td>\n",
       "    </tr>\n",
       "    <tr>\n",
       "      <th>freq</th>\n",
       "      <td>30</td>\n",
       "      <td>200</td>\n",
       "      <td>30</td>\n",
       "      <td>203</td>\n",
       "      <td>50</td>\n",
       "      <td>1535</td>\n",
       "      <td>30</td>\n",
       "      <td>58</td>\n",
       "    </tr>\n",
       "  </tbody>\n",
       "</table>\n",
       "</div>"
      ],
      "text/plain": [
       "           video_id trending_date                                       title  \\\n",
       "count         40949         40949                                       40949   \n",
       "unique         6351           205                                        6455   \n",
       "top     j4KvrAUjn6c      17.14.11  WE MADE OUR MOM CRY...HER DREAM CAME TRUE!   \n",
       "freq             30           200                                          30   \n",
       "\n",
       "       channel_title              publish_time    tags  \\\n",
       "count          40949                     40949   40949   \n",
       "unique          2207                      6269    6055   \n",
       "top             ESPN  2018-05-18T14:00:04.000Z  [none]   \n",
       "freq             203                        50    1535   \n",
       "\n",
       "                                        thumbnail_link  \\\n",
       "count                                            40949   \n",
       "unique                                            6352   \n",
       "top     https://i.ytimg.com/vi/j4KvrAUjn6c/default.jpg   \n",
       "freq                                                30   \n",
       "\n",
       "                                              description  \n",
       "count                                               40379  \n",
       "unique                                               6901  \n",
       "top     ► Listen LIVE: http://power1051fm.com/\\n► Face...  \n",
       "freq                                                   58  "
      ]
     },
     "metadata": {},
     "output_type": "display_data"
    }
   ],
   "source": [
    "display(df.describe(), df.describe(include='object'))"
   ]
  },
  {
   "attachments": {},
   "cell_type": "markdown",
   "metadata": {},
   "source": [
    "Secara umum, kita bisa melihat bahwa:\n",
    "* dataset 'youtube trending' memiliki 16 kolom dan 40949 baris \n",
    "* Hanya 1 kolom, yaitu, kolom `description` yang memiliki data kosong. Data kosong pada kolom ini diwakili dengan data NaN. Jika dilihat dari jumlah data NaN, yaitu sebanyak 570 dari total 40949 baris (sekitar ~1.4% dari total data), maka kita bisa katakan jumlah data NaN tidak terlalu signifikan, sehingga saat menganalisa kolom 'description' ini kita bisa hapus saja baris dengan data NaN.\n",
    "* kolom `video_id` berisikan id unik untuk setiap video, sehingga tidak relevan dalam analisis dan bisa dihapus saja.\n",
    "* kolom `thumbnail_link` berisikan link yang berisi foto thumbnail dari video tersebut. Akan tetapi, link tersebut tidak secara langsung mendeskripsikan isi atau detail mengenai foto thumbnail itu, sehingga tidak relevan dalam analisis dan bisa dihapus saja. \n",
    "* kolom `category_id` berisikan id unik yang menunjukkan category dari video tersebut. Untuk mengetahui nama category tersebut, kita perlu meng-extract nama category dari file \"US_category_id.json\" (yang akan kita lakukan nanti)\n",
    "* kolom `trending_date` berisikan tanggal trending date. Format data 'trending date' ini masih bisa dibersihkan lagi menjadi bentuk datetime. Dari kolom 'trending_date' ini, kita juga akan buat 2 kolom baru yang berisikan masing-masing: 'Trending_Day', 'Trending_Month', dan 'Trending_Date'. Tujuan pembuatan 3 kolom baru ini agar kita bisa explore lebih detail data kita. \n",
    "* kolom `publish_time` berisikan tanggal dan waktu video itu dipublish/diupload ke youtube. Dari kolom 'publish_time' ini, kita akan membuat 3 kolom baru, yaitu 'Publish_date', 'Publish_time', dan 'Publish_Day'\n",
    "\n",
    "Dilihat dari data types, data kita terdiri dari:\n",
    "* 5 kolom dengan data type integer\n",
    "    - category_id\n",
    "    - views\n",
    "    - likes\n",
    "    - dislikes\n",
    "    - comment counts\n",
    "* 8 kolom dengan data type string\n",
    "    - video_id\n",
    "    - trending_date\n",
    "    - title\n",
    "    - channel_title\n",
    "    - publish_time\n",
    "    - tags\n",
    "    - thumbnail_link\n",
    "    - description\n",
    "* 3 kolom dengan data type boolean\n",
    "    - comments_disabled\n",
    "    - ratings_disabled\n",
    "    - video_error_or_removed"
   ]
  },
  {
   "attachments": {},
   "cell_type": "markdown",
   "metadata": {},
   "source": [
    "### Cek Data Duplikasi, Drop kolom yang tidak relevan, Create kolom yang relevan"
   ]
  },
  {
   "cell_type": "code",
   "execution_count": 251,
   "metadata": {},
   "outputs": [
    {
     "data": {
      "text/plain": [
       "False    40901\n",
       "True        48\n",
       "dtype: int64"
      ]
     },
     "execution_count": 251,
     "metadata": {},
     "output_type": "execute_result"
    }
   ],
   "source": [
    "df.duplicated().value_counts()"
   ]
  },
  {
   "attachments": {},
   "cell_type": "markdown",
   "metadata": {},
   "source": [
    "Dari info diatas, kita tau bahwa terdapat 48 baris data yang memiliki duplikasi. Kita akan menghapus data duplikasi dari dataset "
   ]
  },
  {
   "cell_type": "code",
   "execution_count": 252,
   "metadata": {},
   "outputs": [],
   "source": [
    "df.drop_duplicates(inplace=True)"
   ]
  },
  {
   "attachments": {},
   "cell_type": "markdown",
   "metadata": {},
   "source": [
    "### Missing Value"
   ]
  },
  {
   "cell_type": "code",
   "execution_count": 253,
   "metadata": {},
   "outputs": [
    {
     "data": {
      "text/plain": [
       "video_id                    0\n",
       "trending_date               0\n",
       "title                       0\n",
       "channel_title               0\n",
       "category_id                 0\n",
       "publish_time                0\n",
       "tags                        0\n",
       "views                       0\n",
       "likes                       0\n",
       "dislikes                    0\n",
       "comment_count               0\n",
       "thumbnail_link              0\n",
       "comments_disabled           0\n",
       "ratings_disabled            0\n",
       "video_error_or_removed      0\n",
       "description               569\n",
       "dtype: int64"
      ]
     },
     "execution_count": 253,
     "metadata": {},
     "output_type": "execute_result"
    }
   ],
   "source": [
    "df.isna().sum()"
   ]
  },
  {
   "cell_type": "code",
   "execution_count": 254,
   "metadata": {},
   "outputs": [
    {
     "data": {
      "text/plain": [
       "video_id                  0.000000\n",
       "trending_date             0.000000\n",
       "title                     0.000000\n",
       "channel_title             0.000000\n",
       "category_id               0.000000\n",
       "publish_time              0.000000\n",
       "tags                      0.000000\n",
       "views                     0.000000\n",
       "likes                     0.000000\n",
       "dislikes                  0.000000\n",
       "comment_count             0.000000\n",
       "thumbnail_link            0.000000\n",
       "comments_disabled         0.000000\n",
       "ratings_disabled          0.000000\n",
       "video_error_or_removed    0.000000\n",
       "description               1.391164\n",
       "dtype: float64"
      ]
     },
     "execution_count": 254,
     "metadata": {},
     "output_type": "execute_result"
    }
   ],
   "source": [
    "# persentase missing value di tiap kolom\n",
    "df.isna().sum()/df.shape[0]*100"
   ]
  },
  {
   "attachments": {},
   "cell_type": "markdown",
   "metadata": {},
   "source": [
    "Dari output diatas, kita tahu bahwa kolom description memiliki missing value sebanyak 1.39% dari total data\n",
    "\n",
    "Ada 2 cara untuk menangani *missing value*:\n",
    "* Pertama, menghapus baris/kolom yang berisi *missing value*. Cara ini disarankan dalam kasus ini, karena jumlah missing value yang tergolong cukup rendah (hanya sekitar 1.4%).\n",
    "* Kedua, mengisi data yang hilang dengan nilai yang sebenarnya atau nilai yang mendekati. Dalam kasus ini, kolom 'description' tidak bisa diisi dengan nilai mean ataupun median karena bukan angka, dan juga tidak diisi dengan modus, karena pada umumnya, video youtube memiliki description yang berbeda-beda. Salah satu cara yang paling efektif adalah menggunakan API dalam meng-extract data langsung dari youtube. Namun, karena adanya keterbatasan ilmu yang saya pelajari di kelas, untuk project ini kita tidak akan menggunakan cara ini. "
   ]
  },
  {
   "cell_type": "code",
   "execution_count": 255,
   "metadata": {},
   "outputs": [],
   "source": [
    "df.dropna(inplace=True) # drop baris yang memiliki missing value"
   ]
  },
  {
   "cell_type": "code",
   "execution_count": 256,
   "metadata": {},
   "outputs": [
    {
     "name": "stdout",
     "output_type": "stream",
     "text": [
      "<class 'pandas.core.frame.DataFrame'>\n",
      "Int64Index: 40332 entries, 0 to 40948\n",
      "Data columns (total 16 columns):\n",
      " #   Column                  Non-Null Count  Dtype \n",
      "---  ------                  --------------  ----- \n",
      " 0   video_id                40332 non-null  object\n",
      " 1   trending_date           40332 non-null  object\n",
      " 2   title                   40332 non-null  object\n",
      " 3   channel_title           40332 non-null  object\n",
      " 4   category_id             40332 non-null  int64 \n",
      " 5   publish_time            40332 non-null  object\n",
      " 6   tags                    40332 non-null  object\n",
      " 7   views                   40332 non-null  int64 \n",
      " 8   likes                   40332 non-null  int64 \n",
      " 9   dislikes                40332 non-null  int64 \n",
      " 10  comment_count           40332 non-null  int64 \n",
      " 11  thumbnail_link          40332 non-null  object\n",
      " 12  comments_disabled       40332 non-null  bool  \n",
      " 13  ratings_disabled        40332 non-null  bool  \n",
      " 14  video_error_or_removed  40332 non-null  bool  \n",
      " 15  description             40332 non-null  object\n",
      "dtypes: bool(3), int64(5), object(8)\n",
      "memory usage: 4.4+ MB\n"
     ]
    }
   ],
   "source": [
    "df.info()   # total kolom baru menjadi sebanyak 40332"
   ]
  },
  {
   "attachments": {},
   "cell_type": "markdown",
   "metadata": {},
   "source": [
    "Setelah kita drop data duplikat dan missing values, kita sekarang memiliki 40332 dataset unik dengan 16 kolom. Selanjutnya, mari kita lihat kolom mana yang tidak relevan dalam data analisis"
   ]
  },
  {
   "attachments": {},
   "cell_type": "markdown",
   "metadata": {},
   "source": [
    "### Kolom 'video_id'\n",
    "Kolom video_id berisikan ID unik dari masing-masing video, yang tidak relevan dalam analisa kita terhadap dataset, jadi kita akan drop kolom ini"
   ]
  },
  {
   "cell_type": "code",
   "execution_count": 257,
   "metadata": {},
   "outputs": [
    {
     "data": {
      "text/plain": [
       "0        2kyS6SvSYSE\n",
       "1        1ZAPwfrtAFY\n",
       "2        5qpjK5DgCt4\n",
       "3        puqaWrEC7tY\n",
       "4        d380meD0W0M\n",
       "            ...     \n",
       "40943    1PhPYr_9zRY\n",
       "40944    BZt0qjTWNhw\n",
       "40946    D6Oy4LfoqsU\n",
       "40947    oV0zkMe1K8s\n",
       "40948    ooyjaVdt-jA\n",
       "Name: video_id, Length: 40332, dtype: object"
      ]
     },
     "execution_count": 257,
     "metadata": {},
     "output_type": "execute_result"
    }
   ],
   "source": [
    "df['video_id']"
   ]
  },
  {
   "cell_type": "code",
   "execution_count": 258,
   "metadata": {},
   "outputs": [],
   "source": [
    "df.drop(columns='video_id', inplace=True)"
   ]
  },
  {
   "attachments": {},
   "cell_type": "markdown",
   "metadata": {},
   "source": [
    "### Kolom 'thumbnail_link'\n",
    "Kolom thumbnail_link berisikan link yang berisi foto yang digunakan sebagai cover foto masing-masing video. Disini, kolom 'thumbnail_link' hanya berupa angka dan huruf, dimana ity tidak memiliki penjelasan deskriptif terhadap foto yang digunakan sebagai thumbnail. Oleh sebab itu, kolom ini tidak akan membantu dalam analisa kita, maka kita bisa drop kolom ini"
   ]
  },
  {
   "cell_type": "code",
   "execution_count": 259,
   "metadata": {},
   "outputs": [
    {
     "data": {
      "text/plain": [
       "0        https://i.ytimg.com/vi/2kyS6SvSYSE/default.jpg\n",
       "1        https://i.ytimg.com/vi/1ZAPwfrtAFY/default.jpg\n",
       "2        https://i.ytimg.com/vi/5qpjK5DgCt4/default.jpg\n",
       "3        https://i.ytimg.com/vi/puqaWrEC7tY/default.jpg\n",
       "4        https://i.ytimg.com/vi/d380meD0W0M/default.jpg\n",
       "                              ...                      \n",
       "40943    https://i.ytimg.com/vi/1PhPYr_9zRY/default.jpg\n",
       "40944    https://i.ytimg.com/vi/BZt0qjTWNhw/default.jpg\n",
       "40946    https://i.ytimg.com/vi/D6Oy4LfoqsU/default.jpg\n",
       "40947    https://i.ytimg.com/vi/oV0zkMe1K8s/default.jpg\n",
       "40948    https://i.ytimg.com/vi/ooyjaVdt-jA/default.jpg\n",
       "Name: thumbnail_link, Length: 40332, dtype: object"
      ]
     },
     "execution_count": 259,
     "metadata": {},
     "output_type": "execute_result"
    }
   ],
   "source": [
    "df['thumbnail_link']"
   ]
  },
  {
   "cell_type": "code",
   "execution_count": 260,
   "metadata": {},
   "outputs": [],
   "source": [
    "df.drop(columns= 'thumbnail_link', inplace=True)"
   ]
  },
  {
   "attachments": {},
   "cell_type": "markdown",
   "metadata": {},
   "source": [
    "### Kolom 'category_id'\n",
    "Dari file 'US_category_id.json', kita akan meng-extract nama kategori berdasarkan kolom category_id yang terdapat dalam dataset. Pertama, kita ingin melihat isi dari file 'US_category_id.json'"
   ]
  },
  {
   "cell_type": "code",
   "execution_count": 261,
   "metadata": {},
   "outputs": [
    {
     "data": {
      "text/plain": [
       "{'kind': 'youtube#videoCategoryListResponse',\n",
       " 'etag': '\"m2yskBQFythfE4irbTIeOgYYfBU/S730Ilt-Fi-emsQJvJAAShlR6hM\"',\n",
       " 'items': [{'kind': 'youtube#videoCategory',\n",
       "   'etag': '\"m2yskBQFythfE4irbTIeOgYYfBU/Xy1mB4_yLrHy_BmKmPBggty2mZQ\"',\n",
       "   'id': '1',\n",
       "   'snippet': {'channelId': 'UCBR8-60-B28hp2BmDPdntcQ',\n",
       "    'title': 'Film & Animation',\n",
       "    'assignable': True}},\n",
       "  {'kind': 'youtube#videoCategory',\n",
       "   'etag': '\"m2yskBQFythfE4irbTIeOgYYfBU/UZ1oLIIz2dxIhO45ZTFR3a3NyTA\"',\n",
       "   'id': '2',\n",
       "   'snippet': {'channelId': 'UCBR8-60-B28hp2BmDPdntcQ',\n",
       "    'title': 'Autos & Vehicles',\n",
       "    'assignable': True}},\n",
       "  {'kind': 'youtube#videoCategory',\n",
       "   'etag': '\"m2yskBQFythfE4irbTIeOgYYfBU/nqRIq97-xe5XRZTxbknKFVe5Lmg\"',\n",
       "   'id': '10',\n",
       "   'snippet': {'channelId': 'UCBR8-60-B28hp2BmDPdntcQ',\n",
       "    'title': 'Music',\n",
       "    'assignable': True}},\n",
       "  {'kind': 'youtube#videoCategory',\n",
       "   'etag': '\"m2yskBQFythfE4irbTIeOgYYfBU/HwXKamM1Q20q9BN-oBJavSGkfDI\"',\n",
       "   'id': '15',\n",
       "   'snippet': {'channelId': 'UCBR8-60-B28hp2BmDPdntcQ',\n",
       "    'title': 'Pets & Animals',\n",
       "    'assignable': True}},\n",
       "  {'kind': 'youtube#videoCategory',\n",
       "   'etag': '\"m2yskBQFythfE4irbTIeOgYYfBU/9GQMSRjrZdHeb1OEM1XVQ9zbGec\"',\n",
       "   'id': '17',\n",
       "   'snippet': {'channelId': 'UCBR8-60-B28hp2BmDPdntcQ',\n",
       "    'title': 'Sports',\n",
       "    'assignable': True}},\n",
       "  {'kind': 'youtube#videoCategory',\n",
       "   'etag': '\"m2yskBQFythfE4irbTIeOgYYfBU/FJwVpGCVZ1yiJrqZbpqe68Sy_OE\"',\n",
       "   'id': '18',\n",
       "   'snippet': {'channelId': 'UCBR8-60-B28hp2BmDPdntcQ',\n",
       "    'title': 'Short Movies',\n",
       "    'assignable': False}},\n",
       "  {'kind': 'youtube#videoCategory',\n",
       "   'etag': '\"m2yskBQFythfE4irbTIeOgYYfBU/M-3iD9dwK7YJCafRf_DkLN8CouA\"',\n",
       "   'id': '19',\n",
       "   'snippet': {'channelId': 'UCBR8-60-B28hp2BmDPdntcQ',\n",
       "    'title': 'Travel & Events',\n",
       "    'assignable': True}},\n",
       "  {'kind': 'youtube#videoCategory',\n",
       "   'etag': '\"m2yskBQFythfE4irbTIeOgYYfBU/WmA0qYEfjWsAoyJFSw2zinhn2wM\"',\n",
       "   'id': '20',\n",
       "   'snippet': {'channelId': 'UCBR8-60-B28hp2BmDPdntcQ',\n",
       "    'title': 'Gaming',\n",
       "    'assignable': True}},\n",
       "  {'kind': 'youtube#videoCategory',\n",
       "   'etag': '\"m2yskBQFythfE4irbTIeOgYYfBU/EapFaGYG7K0StIXVf8aba249tdM\"',\n",
       "   'id': '21',\n",
       "   'snippet': {'channelId': 'UCBR8-60-B28hp2BmDPdntcQ',\n",
       "    'title': 'Videoblogging',\n",
       "    'assignable': False}},\n",
       "  {'kind': 'youtube#videoCategory',\n",
       "   'etag': '\"m2yskBQFythfE4irbTIeOgYYfBU/xId8RX7vRN8rqkbYZbNIytUQDRo\"',\n",
       "   'id': '22',\n",
       "   'snippet': {'channelId': 'UCBR8-60-B28hp2BmDPdntcQ',\n",
       "    'title': 'People & Blogs',\n",
       "    'assignable': True}},\n",
       "  {'kind': 'youtube#videoCategory',\n",
       "   'etag': '\"m2yskBQFythfE4irbTIeOgYYfBU/G9LHzQmx44rX2S5yaga_Aqtwz8M\"',\n",
       "   'id': '23',\n",
       "   'snippet': {'channelId': 'UCBR8-60-B28hp2BmDPdntcQ',\n",
       "    'title': 'Comedy',\n",
       "    'assignable': True}},\n",
       "  {'kind': 'youtube#videoCategory',\n",
       "   'etag': '\"m2yskBQFythfE4irbTIeOgYYfBU/UVB9oxX2Bvqa_w_y3vXSLVK5E_s\"',\n",
       "   'id': '24',\n",
       "   'snippet': {'channelId': 'UCBR8-60-B28hp2BmDPdntcQ',\n",
       "    'title': 'Entertainment',\n",
       "    'assignable': True}},\n",
       "  {'kind': 'youtube#videoCategory',\n",
       "   'etag': '\"m2yskBQFythfE4irbTIeOgYYfBU/QiLK0ZIrFoORdk_g2l_XR_ECjDc\"',\n",
       "   'id': '25',\n",
       "   'snippet': {'channelId': 'UCBR8-60-B28hp2BmDPdntcQ',\n",
       "    'title': 'News & Politics',\n",
       "    'assignable': True}},\n",
       "  {'kind': 'youtube#videoCategory',\n",
       "   'etag': '\"m2yskBQFythfE4irbTIeOgYYfBU/r6Ck6Z0_L0rG37VJQR200SGNA_w\"',\n",
       "   'id': '26',\n",
       "   'snippet': {'channelId': 'UCBR8-60-B28hp2BmDPdntcQ',\n",
       "    'title': 'Howto & Style',\n",
       "    'assignable': True}},\n",
       "  {'kind': 'youtube#videoCategory',\n",
       "   'etag': '\"m2yskBQFythfE4irbTIeOgYYfBU/EoYkczo9I3RCf96RveKTOgOPkUM\"',\n",
       "   'id': '27',\n",
       "   'snippet': {'channelId': 'UCBR8-60-B28hp2BmDPdntcQ',\n",
       "    'title': 'Education',\n",
       "    'assignable': True}},\n",
       "  {'kind': 'youtube#videoCategory',\n",
       "   'etag': '\"m2yskBQFythfE4irbTIeOgYYfBU/w5HjcTD82G_XA3xBctS30zS-JpQ\"',\n",
       "   'id': '28',\n",
       "   'snippet': {'channelId': 'UCBR8-60-B28hp2BmDPdntcQ',\n",
       "    'title': 'Science & Technology',\n",
       "    'assignable': True}},\n",
       "  {'kind': 'youtube#videoCategory',\n",
       "   'etag': '\"m2yskBQFythfE4irbTIeOgYYfBU/SalkJoBWq_smSEqiAx_qyri6Wa8\"',\n",
       "   'id': '29',\n",
       "   'snippet': {'channelId': 'UCBR8-60-B28hp2BmDPdntcQ',\n",
       "    'title': 'Nonprofits & Activism',\n",
       "    'assignable': True}},\n",
       "  {'kind': 'youtube#videoCategory',\n",
       "   'etag': '\"m2yskBQFythfE4irbTIeOgYYfBU/lL7uWDr_071CHxifjYG1tJrp4Uo\"',\n",
       "   'id': '30',\n",
       "   'snippet': {'channelId': 'UCBR8-60-B28hp2BmDPdntcQ',\n",
       "    'title': 'Movies',\n",
       "    'assignable': False}},\n",
       "  {'kind': 'youtube#videoCategory',\n",
       "   'etag': '\"m2yskBQFythfE4irbTIeOgYYfBU/WnuVfjO-PyFLO7NTRQIbrGE62nk\"',\n",
       "   'id': '31',\n",
       "   'snippet': {'channelId': 'UCBR8-60-B28hp2BmDPdntcQ',\n",
       "    'title': 'Anime/Animation',\n",
       "    'assignable': False}},\n",
       "  {'kind': 'youtube#videoCategory',\n",
       "   'etag': '\"m2yskBQFythfE4irbTIeOgYYfBU/ctpH2hGA_UZ3volJT_FTlOg9M00\"',\n",
       "   'id': '32',\n",
       "   'snippet': {'channelId': 'UCBR8-60-B28hp2BmDPdntcQ',\n",
       "    'title': 'Action/Adventure',\n",
       "    'assignable': False}},\n",
       "  {'kind': 'youtube#videoCategory',\n",
       "   'etag': '\"m2yskBQFythfE4irbTIeOgYYfBU/L0kR3-g1BAo5UD1PLVbQ7LkkDtQ\"',\n",
       "   'id': '33',\n",
       "   'snippet': {'channelId': 'UCBR8-60-B28hp2BmDPdntcQ',\n",
       "    'title': 'Classics',\n",
       "    'assignable': False}},\n",
       "  {'kind': 'youtube#videoCategory',\n",
       "   'etag': '\"m2yskBQFythfE4irbTIeOgYYfBU/pUZOAC_s9sfiwar639qr_wAB-aI\"',\n",
       "   'id': '34',\n",
       "   'snippet': {'channelId': 'UCBR8-60-B28hp2BmDPdntcQ',\n",
       "    'title': 'Comedy',\n",
       "    'assignable': False}},\n",
       "  {'kind': 'youtube#videoCategory',\n",
       "   'etag': '\"m2yskBQFythfE4irbTIeOgYYfBU/Xb5JLhtyNRN3AQq021Ds-OV50Jk\"',\n",
       "   'id': '35',\n",
       "   'snippet': {'channelId': 'UCBR8-60-B28hp2BmDPdntcQ',\n",
       "    'title': 'Documentary',\n",
       "    'assignable': False}},\n",
       "  {'kind': 'youtube#videoCategory',\n",
       "   'etag': '\"m2yskBQFythfE4irbTIeOgYYfBU/u8WXzF4HIhtEi805__sqjuA4lEk\"',\n",
       "   'id': '36',\n",
       "   'snippet': {'channelId': 'UCBR8-60-B28hp2BmDPdntcQ',\n",
       "    'title': 'Drama',\n",
       "    'assignable': False}},\n",
       "  {'kind': 'youtube#videoCategory',\n",
       "   'etag': '\"m2yskBQFythfE4irbTIeOgYYfBU/D04PP4Gr7wc4IV_O9G66Z4A8KWQ\"',\n",
       "   'id': '37',\n",
       "   'snippet': {'channelId': 'UCBR8-60-B28hp2BmDPdntcQ',\n",
       "    'title': 'Family',\n",
       "    'assignable': False}},\n",
       "  {'kind': 'youtube#videoCategory',\n",
       "   'etag': '\"m2yskBQFythfE4irbTIeOgYYfBU/i5-_AceGXQCEEMWU0V8CcQm_vLQ\"',\n",
       "   'id': '38',\n",
       "   'snippet': {'channelId': 'UCBR8-60-B28hp2BmDPdntcQ',\n",
       "    'title': 'Foreign',\n",
       "    'assignable': False}},\n",
       "  {'kind': 'youtube#videoCategory',\n",
       "   'etag': '\"m2yskBQFythfE4irbTIeOgYYfBU/rtlxd0zOixA9QHdIZB26-St5qgQ\"',\n",
       "   'id': '39',\n",
       "   'snippet': {'channelId': 'UCBR8-60-B28hp2BmDPdntcQ',\n",
       "    'title': 'Horror',\n",
       "    'assignable': False}},\n",
       "  {'kind': 'youtube#videoCategory',\n",
       "   'etag': '\"m2yskBQFythfE4irbTIeOgYYfBU/N1TrDFLRppxZgBowCJfJCvh0Dpg\"',\n",
       "   'id': '40',\n",
       "   'snippet': {'channelId': 'UCBR8-60-B28hp2BmDPdntcQ',\n",
       "    'title': 'Sci-Fi/Fantasy',\n",
       "    'assignable': False}},\n",
       "  {'kind': 'youtube#videoCategory',\n",
       "   'etag': '\"m2yskBQFythfE4irbTIeOgYYfBU/7UMGi6zRySqXopr_rv4sZq6Za2E\"',\n",
       "   'id': '41',\n",
       "   'snippet': {'channelId': 'UCBR8-60-B28hp2BmDPdntcQ',\n",
       "    'title': 'Thriller',\n",
       "    'assignable': False}},\n",
       "  {'kind': 'youtube#videoCategory',\n",
       "   'etag': '\"m2yskBQFythfE4irbTIeOgYYfBU/RScXhi324h8usyIetreAVb-uKeM\"',\n",
       "   'id': '42',\n",
       "   'snippet': {'channelId': 'UCBR8-60-B28hp2BmDPdntcQ',\n",
       "    'title': 'Shorts',\n",
       "    'assignable': False}},\n",
       "  {'kind': 'youtube#videoCategory',\n",
       "   'etag': '\"m2yskBQFythfE4irbTIeOgYYfBU/0n9MJVCDLpA8q7aiGVrFsuFsd0A\"',\n",
       "   'id': '43',\n",
       "   'snippet': {'channelId': 'UCBR8-60-B28hp2BmDPdntcQ',\n",
       "    'title': 'Shows',\n",
       "    'assignable': False}},\n",
       "  {'kind': 'youtube#videoCategory',\n",
       "   'etag': '\"m2yskBQFythfE4irbTIeOgYYfBU/x5NxSf5fz8hn4loSN4rvhwzD_pY\"',\n",
       "   'id': '44',\n",
       "   'snippet': {'channelId': 'UCBR8-60-B28hp2BmDPdntcQ',\n",
       "    'title': 'Trailers',\n",
       "    'assignable': False}}]}"
      ]
     },
     "execution_count": 261,
     "metadata": {},
     "output_type": "execute_result"
    }
   ],
   "source": [
    "US_Category = json.load(open('US_category_id.json'))\n",
    "US_Category"
   ]
  },
  {
   "attachments": {},
   "cell_type": "markdown",
   "metadata": {},
   "source": [
    "Dari output diatas, kita tahu bahwa file json merupakan file dalam bentuk dictionary. Kita hanya ingin mengambil 2 items yang **relevan** yaitu 'id' dan 'title'. Pertama, kita mengambil semua data yang ada di dalam key 'items' dan menamainya US_Category. Setelah itu, kita create dictionary kosong bernama 'category' yang nantinya akan menampung 2 items yang kita inginkan yaitu 'id' dan 'title'. Dari US_Category, kita menggunakan for loop untuk mengambil setiap 'id' dan 'title' dan diisi ke dictionary kosong yang telah kita buat. Dictionary 'Category' akan berisi id beserta nama category. "
   ]
  },
  {
   "cell_type": "code",
   "execution_count": 262,
   "metadata": {},
   "outputs": [
    {
     "data": {
      "text/plain": [
       "{1: 'Film & Animation',\n",
       " 2: 'Autos & Vehicles',\n",
       " 10: 'Music',\n",
       " 15: 'Pets & Animals',\n",
       " 17: 'Sports',\n",
       " 18: 'Short Movies',\n",
       " 19: 'Travel & Events',\n",
       " 20: 'Gaming',\n",
       " 21: 'Videoblogging',\n",
       " 22: 'People & Blogs',\n",
       " 23: 'Comedy',\n",
       " 24: 'Entertainment',\n",
       " 25: 'News & Politics',\n",
       " 26: 'Howto & Style',\n",
       " 27: 'Education',\n",
       " 28: 'Science & Technology',\n",
       " 29: 'Nonprofits & Activism',\n",
       " 30: 'Movies',\n",
       " 31: 'Anime/Animation',\n",
       " 32: 'Action/Adventure',\n",
       " 33: 'Classics',\n",
       " 34: 'Comedy',\n",
       " 35: 'Documentary',\n",
       " 36: 'Drama',\n",
       " 37: 'Family',\n",
       " 38: 'Foreign',\n",
       " 39: 'Horror',\n",
       " 40: 'Sci-Fi/Fantasy',\n",
       " 41: 'Thriller',\n",
       " 42: 'Shorts',\n",
       " 43: 'Shows',\n",
       " 44: 'Trailers'}"
      ]
     },
     "execution_count": 262,
     "metadata": {},
     "output_type": "execute_result"
    }
   ],
   "source": [
    "# Ambil hanya data yang ada di dalam key \"items\"\n",
    "US_Category = US_Category['items']\n",
    "\n",
    "# Create dictionary kosong\n",
    "category = {}\n",
    "\n",
    "# dari file json, ambil hanya variable \"id\" dan \"category\", setelah itu dimasukkan ke dalam dictionary kosong \"category\"\n",
    "for i in US_Category:\n",
    "    category[int(i[\"id\"])] = i[\"snippet\"][\"title\"]\n",
    "\n",
    "#isi category\n",
    "category"
   ]
  },
  {
   "attachments": {},
   "cell_type": "markdown",
   "metadata": {},
   "source": [
    "Dari output diatas, kita sekarang mengetahui bahwa youtube mengkategorikan video-videonya menjadi 44 jenis kategori. Selanjutnya, kita akan membuat kolom baru yang berisikan nama kategori dan drop kolom 'category_id'. "
   ]
  },
  {
   "cell_type": "code",
   "execution_count": 263,
   "metadata": {},
   "outputs": [],
   "source": [
    "# Buat kolom baru berisi kategori dari masing2 video\n",
    "df['category_name'] = df['category_id'].map(category)\n",
    "df.drop(columns='category_id', inplace=True)"
   ]
  },
  {
   "attachments": {},
   "cell_type": "markdown",
   "metadata": {},
   "source": [
    "### Kolom 'trending_date'\n",
    "Kolom 'trending_date' memiliki format yang tidak sesuai, jadi kita akan mengubah formatnya"
   ]
  },
  {
   "cell_type": "code",
   "execution_count": 264,
   "metadata": {},
   "outputs": [
    {
     "data": {
      "text/plain": [
       "0        17.14.11\n",
       "1        17.14.11\n",
       "2        17.14.11\n",
       "3        17.14.11\n",
       "4        17.14.11\n",
       "           ...   \n",
       "40943    18.14.06\n",
       "40944    18.14.06\n",
       "40946    18.14.06\n",
       "40947    18.14.06\n",
       "40948    18.14.06\n",
       "Name: trending_date, Length: 40332, dtype: object"
      ]
     },
     "execution_count": 264,
     "metadata": {},
     "output_type": "execute_result"
    }
   ],
   "source": [
    "df['trending_date']"
   ]
  },
  {
   "attachments": {},
   "cell_type": "markdown",
   "metadata": {},
   "source": [
    "Dari output diatas, kita bisa melihat bahwa dataset ini merupakan dataset video youtube yang trending dari 17.14.11 (14 November 2017) sampai 18.14.06 (14 Juni 2018). Ini berarti kita memiliki data dengan rentang 8 bulan. "
   ]
  },
  {
   "attachments": {},
   "cell_type": "markdown",
   "metadata": {},
   "source": [
    "Selanjutnya, kita akan menambah angka '20' berupa string untuk menunjukkan tahun. Lalu, kita akan mengubah formatnya menjadi datetime"
   ]
  },
  {
   "cell_type": "code",
   "execution_count": 265,
   "metadata": {},
   "outputs": [
    {
     "data": {
      "text/plain": [
       "0       2017-11-14\n",
       "1       2017-11-14\n",
       "2       2017-11-14\n",
       "3       2017-11-14\n",
       "4       2017-11-14\n",
       "           ...    \n",
       "40943   2018-06-14\n",
       "40944   2018-06-14\n",
       "40946   2018-06-14\n",
       "40947   2018-06-14\n",
       "40948   2018-06-14\n",
       "Name: trending_date, Length: 40332, dtype: datetime64[ns]"
      ]
     },
     "execution_count": 265,
     "metadata": {},
     "output_type": "execute_result"
    }
   ],
   "source": [
    "# Change the year format\n",
    "df['trending_date'] = '20' + df['trending_date']    \n",
    "\n",
    "# Change the trending date column into a date-time format\n",
    "df['trending_date'] = pd.to_datetime(df['trending_date'], format='%Y.%d.%m')\n",
    "df['trending_date']\n"
   ]
  },
  {
   "attachments": {},
   "cell_type": "markdown",
   "metadata": {},
   "source": [
    "Selanjutnya, dari kolom trending_date yang sudah diubah formatnya, kita mau membuat 2 kolom baru, yaitu:\n",
    "* 'Trending_day' : berisikan hari dimana video tersebut trending\n",
    "* 'Trending_month' : berisikan bulan dimana video tersebut trending"
   ]
  },
  {
   "cell_type": "code",
   "execution_count": 266,
   "metadata": {},
   "outputs": [
    {
     "data": {
      "text/html": [
       "<div>\n",
       "<style scoped>\n",
       "    .dataframe tbody tr th:only-of-type {\n",
       "        vertical-align: middle;\n",
       "    }\n",
       "\n",
       "    .dataframe tbody tr th {\n",
       "        vertical-align: top;\n",
       "    }\n",
       "\n",
       "    .dataframe thead th {\n",
       "        text-align: right;\n",
       "    }\n",
       "</style>\n",
       "<table border=\"1\" class=\"dataframe\">\n",
       "  <thead>\n",
       "    <tr style=\"text-align: right;\">\n",
       "      <th></th>\n",
       "      <th>Trending_day</th>\n",
       "      <th>Trending_month</th>\n",
       "    </tr>\n",
       "  </thead>\n",
       "  <tbody>\n",
       "    <tr>\n",
       "      <th>0</th>\n",
       "      <td>Tuesday</td>\n",
       "      <td>November</td>\n",
       "    </tr>\n",
       "    <tr>\n",
       "      <th>1</th>\n",
       "      <td>Tuesday</td>\n",
       "      <td>November</td>\n",
       "    </tr>\n",
       "    <tr>\n",
       "      <th>2</th>\n",
       "      <td>Tuesday</td>\n",
       "      <td>November</td>\n",
       "    </tr>\n",
       "    <tr>\n",
       "      <th>3</th>\n",
       "      <td>Tuesday</td>\n",
       "      <td>November</td>\n",
       "    </tr>\n",
       "    <tr>\n",
       "      <th>4</th>\n",
       "      <td>Tuesday</td>\n",
       "      <td>November</td>\n",
       "    </tr>\n",
       "    <tr>\n",
       "      <th>...</th>\n",
       "      <td>...</td>\n",
       "      <td>...</td>\n",
       "    </tr>\n",
       "    <tr>\n",
       "      <th>40943</th>\n",
       "      <td>Thursday</td>\n",
       "      <td>June</td>\n",
       "    </tr>\n",
       "    <tr>\n",
       "      <th>40944</th>\n",
       "      <td>Thursday</td>\n",
       "      <td>June</td>\n",
       "    </tr>\n",
       "    <tr>\n",
       "      <th>40946</th>\n",
       "      <td>Thursday</td>\n",
       "      <td>June</td>\n",
       "    </tr>\n",
       "    <tr>\n",
       "      <th>40947</th>\n",
       "      <td>Thursday</td>\n",
       "      <td>June</td>\n",
       "    </tr>\n",
       "    <tr>\n",
       "      <th>40948</th>\n",
       "      <td>Thursday</td>\n",
       "      <td>June</td>\n",
       "    </tr>\n",
       "  </tbody>\n",
       "</table>\n",
       "<p>40332 rows × 2 columns</p>\n",
       "</div>"
      ],
      "text/plain": [
       "      Trending_day Trending_month\n",
       "0          Tuesday       November\n",
       "1          Tuesday       November\n",
       "2          Tuesday       November\n",
       "3          Tuesday       November\n",
       "4          Tuesday       November\n",
       "...            ...            ...\n",
       "40943     Thursday           June\n",
       "40944     Thursday           June\n",
       "40946     Thursday           June\n",
       "40947     Thursday           June\n",
       "40948     Thursday           June\n",
       "\n",
       "[40332 rows x 2 columns]"
      ]
     },
     "execution_count": 266,
     "metadata": {},
     "output_type": "execute_result"
    }
   ],
   "source": [
    "# Create new column for the day of the date\n",
    "df['Trending_day'] = df['trending_date'].dt.day_name()\n",
    "# Create new column for the month of the date\n",
    "df['Trending_month'] = df['trending_date'].dt.month_name()\n",
    "\n",
    "df[['Trending_day','Trending_month']]"
   ]
  },
  {
   "attachments": {},
   "cell_type": "markdown",
   "metadata": {},
   "source": [
    "### Kolom 'publish_time'\n",
    "Kolom 'trending_date' memiliki format yang tidak sesuai, jadi kita akan mengubah formatnya"
   ]
  },
  {
   "cell_type": "code",
   "execution_count": 267,
   "metadata": {},
   "outputs": [
    {
     "data": {
      "text/plain": [
       "0        2017-11-13T17:13:01.000Z\n",
       "1        2017-11-13T07:30:00.000Z\n",
       "2        2017-11-12T19:05:24.000Z\n",
       "3        2017-11-13T11:00:04.000Z\n",
       "4        2017-11-12T18:01:41.000Z\n",
       "                   ...           \n",
       "40943    2018-05-18T16:39:29.000Z\n",
       "40944    2018-05-18T13:00:04.000Z\n",
       "40946    2018-05-18T17:34:22.000Z\n",
       "40947    2018-05-17T17:00:04.000Z\n",
       "40948    2018-05-17T17:09:38.000Z\n",
       "Name: publish_time, Length: 40332, dtype: object"
      ]
     },
     "execution_count": 267,
     "metadata": {},
     "output_type": "execute_result"
    }
   ],
   "source": [
    "df['publish_time']"
   ]
  },
  {
   "attachments": {},
   "cell_type": "markdown",
   "metadata": {},
   "source": [
    "Pertama, kita ubah datatype publish time dari object menjadi datetime"
   ]
  },
  {
   "cell_type": "code",
   "execution_count": 268,
   "metadata": {},
   "outputs": [
    {
     "data": {
      "text/plain": [
       "0       2017-11-13 17:13:01+00:00\n",
       "1       2017-11-13 07:30:00+00:00\n",
       "2       2017-11-12 19:05:24+00:00\n",
       "3       2017-11-13 11:00:04+00:00\n",
       "4       2017-11-12 18:01:41+00:00\n",
       "                   ...           \n",
       "40943   2018-05-18 16:39:29+00:00\n",
       "40944   2018-05-18 13:00:04+00:00\n",
       "40946   2018-05-18 17:34:22+00:00\n",
       "40947   2018-05-17 17:00:04+00:00\n",
       "40948   2018-05-17 17:09:38+00:00\n",
       "Name: publish_time, Length: 40332, dtype: datetime64[ns, UTC]"
      ]
     },
     "execution_count": 268,
     "metadata": {},
     "output_type": "execute_result"
    }
   ],
   "source": [
    "df['publish_time'] = pd.to_datetime(df['publish_time'])\n",
    "df['publish_time']"
   ]
  },
  {
   "attachments": {},
   "cell_type": "markdown",
   "metadata": {},
   "source": [
    "Lalu, kita create 3 kolom baru yaitu:\n",
    "* 'Publish_date' : berisikan tanggal video di-publish\n",
    "* 'Publish_hour' : berisikan jam video di-publish\n",
    "* 'Publish_day'  : berisikan hari video di-publish\n",
    "\n",
    "Lalu, kita akan drop kolom 'publish_time' karena sudah tidak akan digunakan dalam analisis dataset nantinya."
   ]
  },
  {
   "cell_type": "code",
   "execution_count": 269,
   "metadata": {},
   "outputs": [],
   "source": [
    "# Create new column for the publish date \n",
    "df['Publish_date']=df['publish_time'].dt.date\n",
    "\n",
    "# Create new column for the hour of the publish date\n",
    "df['Publish_hour']=df['publish_time'].dt.hour"
   ]
  },
  {
   "cell_type": "code",
   "execution_count": 270,
   "metadata": {},
   "outputs": [
    {
     "data": {
      "text/html": [
       "<div>\n",
       "<style scoped>\n",
       "    .dataframe tbody tr th:only-of-type {\n",
       "        vertical-align: middle;\n",
       "    }\n",
       "\n",
       "    .dataframe tbody tr th {\n",
       "        vertical-align: top;\n",
       "    }\n",
       "\n",
       "    .dataframe thead th {\n",
       "        text-align: right;\n",
       "    }\n",
       "</style>\n",
       "<table border=\"1\" class=\"dataframe\">\n",
       "  <thead>\n",
       "    <tr style=\"text-align: right;\">\n",
       "      <th></th>\n",
       "      <th>Publish_date</th>\n",
       "      <th>Publish_hour</th>\n",
       "      <th>Publish_day</th>\n",
       "    </tr>\n",
       "  </thead>\n",
       "  <tbody>\n",
       "    <tr>\n",
       "      <th>0</th>\n",
       "      <td>2017-11-13</td>\n",
       "      <td>17</td>\n",
       "      <td>Monday</td>\n",
       "    </tr>\n",
       "    <tr>\n",
       "      <th>1</th>\n",
       "      <td>2017-11-13</td>\n",
       "      <td>7</td>\n",
       "      <td>Monday</td>\n",
       "    </tr>\n",
       "    <tr>\n",
       "      <th>2</th>\n",
       "      <td>2017-11-12</td>\n",
       "      <td>19</td>\n",
       "      <td>Sunday</td>\n",
       "    </tr>\n",
       "    <tr>\n",
       "      <th>3</th>\n",
       "      <td>2017-11-13</td>\n",
       "      <td>11</td>\n",
       "      <td>Monday</td>\n",
       "    </tr>\n",
       "    <tr>\n",
       "      <th>4</th>\n",
       "      <td>2017-11-12</td>\n",
       "      <td>18</td>\n",
       "      <td>Sunday</td>\n",
       "    </tr>\n",
       "    <tr>\n",
       "      <th>...</th>\n",
       "      <td>...</td>\n",
       "      <td>...</td>\n",
       "      <td>...</td>\n",
       "    </tr>\n",
       "    <tr>\n",
       "      <th>40943</th>\n",
       "      <td>2018-05-18</td>\n",
       "      <td>16</td>\n",
       "      <td>Friday</td>\n",
       "    </tr>\n",
       "    <tr>\n",
       "      <th>40944</th>\n",
       "      <td>2018-05-18</td>\n",
       "      <td>13</td>\n",
       "      <td>Friday</td>\n",
       "    </tr>\n",
       "    <tr>\n",
       "      <th>40946</th>\n",
       "      <td>2018-05-18</td>\n",
       "      <td>17</td>\n",
       "      <td>Friday</td>\n",
       "    </tr>\n",
       "    <tr>\n",
       "      <th>40947</th>\n",
       "      <td>2018-05-17</td>\n",
       "      <td>17</td>\n",
       "      <td>Thursday</td>\n",
       "    </tr>\n",
       "    <tr>\n",
       "      <th>40948</th>\n",
       "      <td>2018-05-17</td>\n",
       "      <td>17</td>\n",
       "      <td>Thursday</td>\n",
       "    </tr>\n",
       "  </tbody>\n",
       "</table>\n",
       "<p>40332 rows × 3 columns</p>\n",
       "</div>"
      ],
      "text/plain": [
       "      Publish_date  Publish_hour Publish_day\n",
       "0       2017-11-13            17      Monday\n",
       "1       2017-11-13             7      Monday\n",
       "2       2017-11-12            19      Sunday\n",
       "3       2017-11-13            11      Monday\n",
       "4       2017-11-12            18      Sunday\n",
       "...            ...           ...         ...\n",
       "40943   2018-05-18            16      Friday\n",
       "40944   2018-05-18            13      Friday\n",
       "40946   2018-05-18            17      Friday\n",
       "40947   2018-05-17            17    Thursday\n",
       "40948   2018-05-17            17    Thursday\n",
       "\n",
       "[40332 rows x 3 columns]"
      ]
     },
     "execution_count": 270,
     "metadata": {},
     "output_type": "execute_result"
    }
   ],
   "source": [
    "# Mengubah format publish date menjadi format datetime\n",
    "df['Publish_date'] = pd.to_datetime(df['Publish_date'])\n",
    "\n",
    "# Create new column for the day of the publish date\n",
    "df['Publish_day'] = df['Publish_date'].dt.day_name()\n",
    "\n",
    "# Drop kolom 'publish time'\n",
    "df.drop(columns='publish_time', inplace=True)\n",
    "\n",
    "# Menunjukkan 3 kolom bertema Publish\n",
    "df[['Publish_date','Publish_hour','Publish_day']]"
   ]
  },
  {
   "attachments": {},
   "cell_type": "markdown",
   "metadata": {},
   "source": [
    "### Merapikan Kolom \n",
    "Selanjutnya, kita akan mengatur ulang posisi kolom beserta format kolom (termasuk membuat huruf pertama setiap nama kolom dimulai dengan huruf kapital) dengan tujuan untuk menormalisasikan penamaan kolom dan memudahkan kita dalam pemanggilan kolom kedepannya."
   ]
  },
  {
   "cell_type": "code",
   "execution_count": 271,
   "metadata": {},
   "outputs": [
    {
     "data": {
      "text/plain": [
       "Index(['trending_date', 'title', 'channel_title', 'tags', 'views', 'likes',\n",
       "       'dislikes', 'comment_count', 'comments_disabled', 'ratings_disabled',\n",
       "       'video_error_or_removed', 'description', 'category_name',\n",
       "       'Trending_day', 'Trending_month', 'Publish_date', 'Publish_hour',\n",
       "       'Publish_day'],\n",
       "      dtype='object')"
      ]
     },
     "execution_count": 271,
     "metadata": {},
     "output_type": "execute_result"
    }
   ],
   "source": [
    "# mengecek nama kolom pada dataset\n",
    "df.columns"
   ]
  },
  {
   "cell_type": "code",
   "execution_count": 272,
   "metadata": {},
   "outputs": [
    {
     "data": {
      "text/html": [
       "<div>\n",
       "<style scoped>\n",
       "    .dataframe tbody tr th:only-of-type {\n",
       "        vertical-align: middle;\n",
       "    }\n",
       "\n",
       "    .dataframe tbody tr th {\n",
       "        vertical-align: top;\n",
       "    }\n",
       "\n",
       "    .dataframe thead th {\n",
       "        text-align: right;\n",
       "    }\n",
       "</style>\n",
       "<table border=\"1\" class=\"dataframe\">\n",
       "  <thead>\n",
       "    <tr style=\"text-align: right;\">\n",
       "      <th></th>\n",
       "      <th>Title</th>\n",
       "      <th>Channel</th>\n",
       "      <th>Views</th>\n",
       "      <th>Likes</th>\n",
       "      <th>Dislikes</th>\n",
       "      <th>Comment_count</th>\n",
       "      <th>Comments_disabled</th>\n",
       "      <th>Ratings_disabled</th>\n",
       "      <th>Video_error_or_removed</th>\n",
       "      <th>Category</th>\n",
       "      <th>Trending_date</th>\n",
       "      <th>Trending_day</th>\n",
       "      <th>Trending_month</th>\n",
       "      <th>Publish_date</th>\n",
       "      <th>Publish_hour</th>\n",
       "      <th>Publish_day</th>\n",
       "      <th>Tags</th>\n",
       "      <th>Description</th>\n",
       "    </tr>\n",
       "  </thead>\n",
       "  <tbody>\n",
       "    <tr>\n",
       "      <th>0</th>\n",
       "      <td>WE WANT TO TALK ABOUT OUR MARRIAGE</td>\n",
       "      <td>CaseyNeistat</td>\n",
       "      <td>748374</td>\n",
       "      <td>57527</td>\n",
       "      <td>2966</td>\n",
       "      <td>15954</td>\n",
       "      <td>False</td>\n",
       "      <td>False</td>\n",
       "      <td>False</td>\n",
       "      <td>People &amp; Blogs</td>\n",
       "      <td>2017-11-14</td>\n",
       "      <td>Tuesday</td>\n",
       "      <td>November</td>\n",
       "      <td>2017-11-13</td>\n",
       "      <td>17</td>\n",
       "      <td>Monday</td>\n",
       "      <td>SHANtell martin</td>\n",
       "      <td>SHANTELL'S CHANNEL - https://www.youtube.com/s...</td>\n",
       "    </tr>\n",
       "    <tr>\n",
       "      <th>1</th>\n",
       "      <td>The Trump Presidency: Last Week Tonight with J...</td>\n",
       "      <td>LastWeekTonight</td>\n",
       "      <td>2418783</td>\n",
       "      <td>97185</td>\n",
       "      <td>6146</td>\n",
       "      <td>12703</td>\n",
       "      <td>False</td>\n",
       "      <td>False</td>\n",
       "      <td>False</td>\n",
       "      <td>Entertainment</td>\n",
       "      <td>2017-11-14</td>\n",
       "      <td>Tuesday</td>\n",
       "      <td>November</td>\n",
       "      <td>2017-11-13</td>\n",
       "      <td>7</td>\n",
       "      <td>Monday</td>\n",
       "      <td>last week tonight trump presidency|\"last week ...</td>\n",
       "      <td>One year after the presidential election, John...</td>\n",
       "    </tr>\n",
       "    <tr>\n",
       "      <th>2</th>\n",
       "      <td>Racist Superman | Rudy Mancuso, King Bach &amp; Le...</td>\n",
       "      <td>Rudy Mancuso</td>\n",
       "      <td>3191434</td>\n",
       "      <td>146033</td>\n",
       "      <td>5339</td>\n",
       "      <td>8181</td>\n",
       "      <td>False</td>\n",
       "      <td>False</td>\n",
       "      <td>False</td>\n",
       "      <td>Comedy</td>\n",
       "      <td>2017-11-14</td>\n",
       "      <td>Tuesday</td>\n",
       "      <td>November</td>\n",
       "      <td>2017-11-12</td>\n",
       "      <td>19</td>\n",
       "      <td>Sunday</td>\n",
       "      <td>racist superman|\"rudy\"|\"mancuso\"|\"king\"|\"bach\"...</td>\n",
       "      <td>WATCH MY PREVIOUS VIDEO ▶ \\n\\nSUBSCRIBE ► http...</td>\n",
       "    </tr>\n",
       "    <tr>\n",
       "      <th>3</th>\n",
       "      <td>Nickelback Lyrics: Real or Fake?</td>\n",
       "      <td>Good Mythical Morning</td>\n",
       "      <td>343168</td>\n",
       "      <td>10172</td>\n",
       "      <td>666</td>\n",
       "      <td>2146</td>\n",
       "      <td>False</td>\n",
       "      <td>False</td>\n",
       "      <td>False</td>\n",
       "      <td>Entertainment</td>\n",
       "      <td>2017-11-14</td>\n",
       "      <td>Tuesday</td>\n",
       "      <td>November</td>\n",
       "      <td>2017-11-13</td>\n",
       "      <td>11</td>\n",
       "      <td>Monday</td>\n",
       "      <td>rhett and link|\"gmm\"|\"good mythical morning\"|\"...</td>\n",
       "      <td>Today we find out if Link is a Nickelback amat...</td>\n",
       "    </tr>\n",
       "    <tr>\n",
       "      <th>4</th>\n",
       "      <td>I Dare You: GOING BALD!?</td>\n",
       "      <td>nigahiga</td>\n",
       "      <td>2095731</td>\n",
       "      <td>132235</td>\n",
       "      <td>1989</td>\n",
       "      <td>17518</td>\n",
       "      <td>False</td>\n",
       "      <td>False</td>\n",
       "      <td>False</td>\n",
       "      <td>Entertainment</td>\n",
       "      <td>2017-11-14</td>\n",
       "      <td>Tuesday</td>\n",
       "      <td>November</td>\n",
       "      <td>2017-11-12</td>\n",
       "      <td>18</td>\n",
       "      <td>Sunday</td>\n",
       "      <td>ryan|\"higa\"|\"higatv\"|\"nigahiga\"|\"i dare you\"|\"...</td>\n",
       "      <td>I know it's been a while since we did this sho...</td>\n",
       "    </tr>\n",
       "  </tbody>\n",
       "</table>\n",
       "</div>"
      ],
      "text/plain": [
       "                                               Title                Channel  \\\n",
       "0                 WE WANT TO TALK ABOUT OUR MARRIAGE           CaseyNeistat   \n",
       "1  The Trump Presidency: Last Week Tonight with J...        LastWeekTonight   \n",
       "2  Racist Superman | Rudy Mancuso, King Bach & Le...           Rudy Mancuso   \n",
       "3                   Nickelback Lyrics: Real or Fake?  Good Mythical Morning   \n",
       "4                           I Dare You: GOING BALD!?               nigahiga   \n",
       "\n",
       "     Views   Likes  Dislikes  Comment_count  Comments_disabled  \\\n",
       "0   748374   57527      2966          15954              False   \n",
       "1  2418783   97185      6146          12703              False   \n",
       "2  3191434  146033      5339           8181              False   \n",
       "3   343168   10172       666           2146              False   \n",
       "4  2095731  132235      1989          17518              False   \n",
       "\n",
       "   Ratings_disabled  Video_error_or_removed        Category Trending_date  \\\n",
       "0             False                   False  People & Blogs    2017-11-14   \n",
       "1             False                   False   Entertainment    2017-11-14   \n",
       "2             False                   False          Comedy    2017-11-14   \n",
       "3             False                   False   Entertainment    2017-11-14   \n",
       "4             False                   False   Entertainment    2017-11-14   \n",
       "\n",
       "  Trending_day Trending_month Publish_date  Publish_hour Publish_day  \\\n",
       "0      Tuesday       November   2017-11-13            17      Monday   \n",
       "1      Tuesday       November   2017-11-13             7      Monday   \n",
       "2      Tuesday       November   2017-11-12            19      Sunday   \n",
       "3      Tuesday       November   2017-11-13            11      Monday   \n",
       "4      Tuesday       November   2017-11-12            18      Sunday   \n",
       "\n",
       "                                                Tags  \\\n",
       "0                                    SHANtell martin   \n",
       "1  last week tonight trump presidency|\"last week ...   \n",
       "2  racist superman|\"rudy\"|\"mancuso\"|\"king\"|\"bach\"...   \n",
       "3  rhett and link|\"gmm\"|\"good mythical morning\"|\"...   \n",
       "4  ryan|\"higa\"|\"higatv\"|\"nigahiga\"|\"i dare you\"|\"...   \n",
       "\n",
       "                                         Description  \n",
       "0  SHANTELL'S CHANNEL - https://www.youtube.com/s...  \n",
       "1  One year after the presidential election, John...  \n",
       "2  WATCH MY PREVIOUS VIDEO ▶ \\n\\nSUBSCRIBE ► http...  \n",
       "3  Today we find out if Link is a Nickelback amat...  \n",
       "4  I know it's been a while since we did this sho...  "
      ]
     },
     "execution_count": 272,
     "metadata": {},
     "output_type": "execute_result"
    }
   ],
   "source": [
    "# Menyusun order dari columns\n",
    "df = df[['title', 'channel_title', 'views', 'likes', 'dislikes', 'comment_count', 'comments_disabled', 'ratings_disabled', 'video_error_or_removed', 'category_name', 'trending_date', 'Trending_day', 'Trending_month', 'Publish_date', 'Publish_hour', 'Publish_day', 'tags', 'description']]\n",
    "\n",
    "# Menyesuaikan nama kolom\n",
    "df.columns = ['Title', 'Channel', 'Views', 'Likes', 'Dislikes', 'Comment_count', 'Comments_disabled', 'Ratings_disabled', 'Video_error_or_removed', 'Category', 'Trending_date', 'Trending_day', 'Trending_month', 'Publish_date', 'Publish_hour', 'Publish_day', 'Tags', 'Description']\n",
    "\n",
    "# Menampilkan 5 baris dari dataset \n",
    "df.head()"
   ]
  },
  {
   "attachments": {},
   "cell_type": "markdown",
   "metadata": {},
   "source": [
    "### Data Bersih\n",
    "Kita sudah selesai membersihkan data kita, sekarang, mari kita lihat sekilas informasi dari data yang sudah kita bersihkan"
   ]
  },
  {
   "cell_type": "code",
   "execution_count": 273,
   "metadata": {},
   "outputs": [
    {
     "name": "stdout",
     "output_type": "stream",
     "text": [
      "(40332, 18)\n"
     ]
    },
    {
     "data": {
      "text/html": [
       "<div>\n",
       "<style scoped>\n",
       "    .dataframe tbody tr th:only-of-type {\n",
       "        vertical-align: middle;\n",
       "    }\n",
       "\n",
       "    .dataframe tbody tr th {\n",
       "        vertical-align: top;\n",
       "    }\n",
       "\n",
       "    .dataframe thead th {\n",
       "        text-align: right;\n",
       "    }\n",
       "</style>\n",
       "<table border=\"1\" class=\"dataframe\">\n",
       "  <thead>\n",
       "    <tr style=\"text-align: right;\">\n",
       "      <th></th>\n",
       "      <th>kolom</th>\n",
       "      <th>dtype</th>\n",
       "      <th>nunique</th>\n",
       "      <th>unique</th>\n",
       "    </tr>\n",
       "  </thead>\n",
       "  <tbody>\n",
       "    <tr>\n",
       "      <th>0</th>\n",
       "      <td>Title</td>\n",
       "      <td>object</td>\n",
       "      <td>6357</td>\n",
       "      <td>[WE WANT TO TALK ABOUT OUR MARRIAGE, The Trump...</td>\n",
       "    </tr>\n",
       "    <tr>\n",
       "      <th>1</th>\n",
       "      <td>Channel</td>\n",
       "      <td>object</td>\n",
       "      <td>2142</td>\n",
       "      <td>[CaseyNeistat, LastWeekTonight, Rudy Mancuso]</td>\n",
       "    </tr>\n",
       "    <tr>\n",
       "      <th>2</th>\n",
       "      <td>Views</td>\n",
       "      <td>int64</td>\n",
       "      <td>39927</td>\n",
       "      <td>[748374, 2418783, 3191434]</td>\n",
       "    </tr>\n",
       "    <tr>\n",
       "      <th>3</th>\n",
       "      <td>Likes</td>\n",
       "      <td>int64</td>\n",
       "      <td>29664</td>\n",
       "      <td>[57527, 97185, 146033]</td>\n",
       "    </tr>\n",
       "    <tr>\n",
       "      <th>4</th>\n",
       "      <td>Dislikes</td>\n",
       "      <td>int64</td>\n",
       "      <td>8460</td>\n",
       "      <td>[2966, 6146, 5339]</td>\n",
       "    </tr>\n",
       "    <tr>\n",
       "      <th>5</th>\n",
       "      <td>Comment_count</td>\n",
       "      <td>int64</td>\n",
       "      <td>13684</td>\n",
       "      <td>[15954, 12703, 8181]</td>\n",
       "    </tr>\n",
       "    <tr>\n",
       "      <th>6</th>\n",
       "      <td>Comments_disabled</td>\n",
       "      <td>bool</td>\n",
       "      <td>2</td>\n",
       "      <td>[False, True]</td>\n",
       "    </tr>\n",
       "    <tr>\n",
       "      <th>7</th>\n",
       "      <td>Ratings_disabled</td>\n",
       "      <td>bool</td>\n",
       "      <td>2</td>\n",
       "      <td>[False, True]</td>\n",
       "    </tr>\n",
       "    <tr>\n",
       "      <th>8</th>\n",
       "      <td>Video_error_or_removed</td>\n",
       "      <td>bool</td>\n",
       "      <td>2</td>\n",
       "      <td>[False, True]</td>\n",
       "    </tr>\n",
       "    <tr>\n",
       "      <th>9</th>\n",
       "      <td>Category</td>\n",
       "      <td>object</td>\n",
       "      <td>16</td>\n",
       "      <td>[People &amp; Blogs, Entertainment, Comedy]</td>\n",
       "    </tr>\n",
       "    <tr>\n",
       "      <th>10</th>\n",
       "      <td>Trending_date</td>\n",
       "      <td>datetime64[ns]</td>\n",
       "      <td>205</td>\n",
       "      <td>[2017-11-14T00:00:00.000000000, 2017-11-15T00:...</td>\n",
       "    </tr>\n",
       "    <tr>\n",
       "      <th>11</th>\n",
       "      <td>Trending_day</td>\n",
       "      <td>object</td>\n",
       "      <td>7</td>\n",
       "      <td>[Tuesday, Wednesday, Thursday]</td>\n",
       "    </tr>\n",
       "    <tr>\n",
       "      <th>12</th>\n",
       "      <td>Trending_month</td>\n",
       "      <td>object</td>\n",
       "      <td>8</td>\n",
       "      <td>[November, December, January]</td>\n",
       "    </tr>\n",
       "    <tr>\n",
       "      <th>13</th>\n",
       "      <td>Publish_date</td>\n",
       "      <td>datetime64[ns]</td>\n",
       "      <td>303</td>\n",
       "      <td>[2017-11-13T00:00:00.000000000, 2017-11-12T00:...</td>\n",
       "    </tr>\n",
       "    <tr>\n",
       "      <th>14</th>\n",
       "      <td>Publish_hour</td>\n",
       "      <td>int64</td>\n",
       "      <td>24</td>\n",
       "      <td>[17, 7, 19]</td>\n",
       "    </tr>\n",
       "    <tr>\n",
       "      <th>15</th>\n",
       "      <td>Publish_day</td>\n",
       "      <td>object</td>\n",
       "      <td>7</td>\n",
       "      <td>[Monday, Sunday, Friday]</td>\n",
       "    </tr>\n",
       "    <tr>\n",
       "      <th>16</th>\n",
       "      <td>Tags</td>\n",
       "      <td>object</td>\n",
       "      <td>6008</td>\n",
       "      <td>[SHANtell martin, last week tonight trump pres...</td>\n",
       "    </tr>\n",
       "    <tr>\n",
       "      <th>17</th>\n",
       "      <td>Description</td>\n",
       "      <td>object</td>\n",
       "      <td>6901</td>\n",
       "      <td>[SHANTELL'S CHANNEL - https://www.youtube.com/...</td>\n",
       "    </tr>\n",
       "  </tbody>\n",
       "</table>\n",
       "</div>"
      ],
      "text/plain": [
       "                     kolom           dtype  nunique  \\\n",
       "0                    Title          object     6357   \n",
       "1                  Channel          object     2142   \n",
       "2                    Views           int64    39927   \n",
       "3                    Likes           int64    29664   \n",
       "4                 Dislikes           int64     8460   \n",
       "5            Comment_count           int64    13684   \n",
       "6        Comments_disabled            bool        2   \n",
       "7         Ratings_disabled            bool        2   \n",
       "8   Video_error_or_removed            bool        2   \n",
       "9                 Category          object       16   \n",
       "10           Trending_date  datetime64[ns]      205   \n",
       "11            Trending_day          object        7   \n",
       "12          Trending_month          object        8   \n",
       "13            Publish_date  datetime64[ns]      303   \n",
       "14            Publish_hour           int64       24   \n",
       "15             Publish_day          object        7   \n",
       "16                    Tags          object     6008   \n",
       "17             Description          object     6901   \n",
       "\n",
       "                                               unique  \n",
       "0   [WE WANT TO TALK ABOUT OUR MARRIAGE, The Trump...  \n",
       "1       [CaseyNeistat, LastWeekTonight, Rudy Mancuso]  \n",
       "2                          [748374, 2418783, 3191434]  \n",
       "3                              [57527, 97185, 146033]  \n",
       "4                                  [2966, 6146, 5339]  \n",
       "5                                [15954, 12703, 8181]  \n",
       "6                                       [False, True]  \n",
       "7                                       [False, True]  \n",
       "8                                       [False, True]  \n",
       "9             [People & Blogs, Entertainment, Comedy]  \n",
       "10  [2017-11-14T00:00:00.000000000, 2017-11-15T00:...  \n",
       "11                     [Tuesday, Wednesday, Thursday]  \n",
       "12                      [November, December, January]  \n",
       "13  [2017-11-13T00:00:00.000000000, 2017-11-12T00:...  \n",
       "14                                        [17, 7, 19]  \n",
       "15                           [Monday, Sunday, Friday]  \n",
       "16  [SHANtell martin, last week tonight trump pres...  \n",
       "17  [SHANTELL'S CHANNEL - https://www.youtube.com/...  "
      ]
     },
     "execution_count": 273,
     "metadata": {},
     "output_type": "execute_result"
    }
   ],
   "source": [
    "tipe=[]\n",
    "jumlah=[]\n",
    "sample=[]\n",
    "\n",
    "for i in df.columns:\n",
    "    sample.append(df[i].unique()[:3])\n",
    "    jumlah.append(df[i].nunique())\n",
    "    tipe.append(df[i].dtype)\n",
    "\n",
    "summary = pd.DataFrame({\n",
    "    'kolom': df.columns,\n",
    "    'dtype': tipe,\n",
    "    'nunique': jumlah,\n",
    "    'unique': sample\n",
    "})\n",
    "\n",
    "print(df.shape)\n",
    "summary"
   ]
  },
  {
   "attachments": {},
   "cell_type": "markdown",
   "metadata": {},
   "source": [
    "Sebelum dibersihkan, kita memiliki 40,949 baris dan 16 kolom, sekarang kita memiliki 40,332 baris dan 18 kolom. "
   ]
  },
  {
   "attachments": {},
   "cell_type": "markdown",
   "metadata": {},
   "source": [
    "## DATA ANALYSIS\n",
    "\n",
    "Setelah melakukan **data understanding** dan **data cleaning**, selanjutnya kita bisa mulai melakukan explorasi dan analisis terhadap dataset untuk mencari tahu **karakteristik video-video youtube yang trending** . Kita akan melakukan explorasi berdasarkan kolom yang terdapat pada dataset"
   ]
  },
  {
   "attachments": {},
   "cell_type": "markdown",
   "metadata": {},
   "source": [
    "### Berdasarkan judul video: `Title`\n",
    "\n",
    "Kita akan menganalisis kolom  `Title` untuk menjawab beberapa pertanyaan.\n",
    "\n",
    "* Bagaimana distribusi panjang judul (title) video youtube yang trending ?\n",
    "* Berapa banyak video trending di youtube yang memiliki huruf capital semua, huruf capital sebagian, dan hurud kecil semua pada title video? \n",
    "* Apa saja kata-kata yang paling sering muncul di title video?"
   ]
  },
  {
   "attachments": {},
   "cell_type": "markdown",
   "metadata": {},
   "source": [
    "### Distribusi panjang judul (title) video youtube yang trending"
   ]
  },
  {
   "cell_type": "code",
   "execution_count": 274,
   "metadata": {},
   "outputs": [
    {
     "data": {
      "text/plain": [
       "count    40332.000000\n",
       "mean        48.670460\n",
       "std         19.579263\n",
       "min          3.000000\n",
       "25%         34.000000\n",
       "50%         47.000000\n",
       "75%         61.000000\n",
       "max        100.000000\n",
       "Name: Title_length, dtype: float64"
      ]
     },
     "execution_count": 274,
     "metadata": {},
     "output_type": "execute_result"
    }
   ],
   "source": [
    "df[\"Title_length\"] = df[\"Title\"].str.len()\n",
    "df[\"Title_length\"].describe()"
   ]
  },
  {
   "cell_type": "code",
   "execution_count": 275,
   "metadata": {},
   "outputs": [
    {
     "data": {
      "image/png": "[encoded data removed]",
      "text/plain": [
       "<Figure size 640x480 with 1 Axes>"
      ]
     },
     "metadata": {},
     "output_type": "display_data"
    }
   ],
   "source": [
    "plt.hist(df[\"Title_length\"], bins=10, color='green')\n",
    "plt.xlabel('Title Length')\n",
    "plt.ylabel('# of videos')\n",
    "plt.title('Number of videos based on title length')\n",
    "plt.show()"
   ]
  },
  {
   "attachments": {},
   "cell_type": "markdown",
   "metadata": {},
   "source": [
    "Hasil Observasi:\n",
    "Dari grafik diatas, dapat kita simpulkan bahwa sebagian besar video trending di youtube memiliki panjang title diantara 30-60 huruf"
   ]
  },
  {
   "attachments": {},
   "cell_type": "markdown",
   "metadata": {},
   "source": [
    "### Berapa banyak video trending di youtube yang memiliki huruf capital semua, huruf capital sebagian, dan huruf kecil semua pada title video? "
   ]
  },
  {
   "cell_type": "code",
   "execution_count": 276,
   "metadata": {},
   "outputs": [
    {
     "data": {
      "text/plain": [
       "40332"
      ]
     },
     "execution_count": 276,
     "metadata": {},
     "output_type": "execute_result"
    }
   ],
   "source": [
    "df['Title'].count()"
   ]
  },
  {
   "cell_type": "code",
   "execution_count": 277,
   "metadata": {},
   "outputs": [
    {
     "data": {
      "text/plain": [
       "Mixed                0.792497\n",
       "All capital          0.196073\n",
       "No capital at all    0.011430\n",
       "Name: Title_capital, dtype: float64"
      ]
     },
     "execution_count": 277,
     "metadata": {},
     "output_type": "execute_result"
    }
   ],
   "source": [
    "def title_capital(x):\n",
    "    for i in x.split():\n",
    "        if i.isupper():\n",
    "            return 'All capital'\n",
    "        elif i.islower():\n",
    "            return 'No capital at all'\n",
    "        else:\n",
    "            return 'Mixed'\n",
    "\n",
    "\n",
    "df[\"Title_capital\"] = df[\"Title\"].apply(title_capital)\n",
    "df[\"Title_capital\"].value_counts(normalize=True)"
   ]
  },
  {
   "cell_type": "code",
   "execution_count": 278,
   "metadata": {},
   "outputs": [
    {
     "data": {
      "text/plain": [
       "(array([0, 1, 2]),\n",
       " [Text(0, 0, 'No capital at all'),\n",
       "  Text(1, 0, 'All capital'),\n",
       "  Text(2, 0, 'Mixed')])"
      ]
     },
     "execution_count": 278,
     "metadata": {},
     "output_type": "execute_result"
    },
    {
     "data": {
      "image/png": "[encoded data removed]",
      "text/plain": [
       "<Figure size 640x480 with 1 Axes>"
      ]
     },
     "metadata": {},
     "output_type": "display_data"
    }
   ],
   "source": [
    "df[\"Title_capital\"].value_counts(normalize=True).sort_values().plot(kind = 'bar', \n",
    "                                                                    title = 'Proportion of title with capital letters', \n",
    "                                                                    xlabel = 'Types of titles',\n",
    "                                                                    ylabel = 'Percentage of total # of videos',\n",
    "                                                                    color = 'green',\n",
    "                                                                    )\n",
    "plt.xticks(rotation=30)\n"
   ]
  },
  {
   "attachments": {},
   "cell_type": "markdown",
   "metadata": {},
   "source": [
    "Hampir 80% video trending di youtube memiliki judul dengan campuran huruf besar dan kecil. Ini bukan penemuan yang spesial karena pada umumnya saat kita menulis judul, biasanya akan otomatis dimulai dengan huruf kapital, jadi kemungkinan besar mayoritas judul akan memiliki campuran huruf kapital dan huruf kecil "
   ]
  },
  {
   "attachments": {},
   "cell_type": "markdown",
   "metadata": {},
   "source": [
    "### Apa saja kata-kata yang paling sering muncul di title video?"
   ]
  },
  {
   "attachments": {},
   "cell_type": "markdown",
   "metadata": {},
   "source": [
    "Title sebuah video bisa saja mengandung stopwords. Berdasarkan wikipedia, stopwords adalah kata-kata dalam stop list yang disaring sebelum atau sesudah pemrosesan data bahasa alami karena tidak signifikan (beberapa contoh: 'is', 'the', 'at', 'which', 'on', 'he', 'she'). Karena stop words dinilai tidak signifikan terhadap analisis data, maka kita akan menghapus semua kata yang terdapat di dalam title video. Kolom baru 'Title_without_stopwords' adalah kolom yang berisi judul video tanpa stopwords"
   ]
  },
  {
   "cell_type": "code",
   "execution_count": 279,
   "metadata": {},
   "outputs": [
    {
     "data": {
      "text/html": [
       "<div>\n",
       "<style scoped>\n",
       "    .dataframe tbody tr th:only-of-type {\n",
       "        vertical-align: middle;\n",
       "    }\n",
       "\n",
       "    .dataframe tbody tr th {\n",
       "        vertical-align: top;\n",
       "    }\n",
       "\n",
       "    .dataframe thead th {\n",
       "        text-align: right;\n",
       "    }\n",
       "</style>\n",
       "<table border=\"1\" class=\"dataframe\">\n",
       "  <thead>\n",
       "    <tr style=\"text-align: right;\">\n",
       "      <th></th>\n",
       "      <th>Title</th>\n",
       "      <th>Title_without_stopwords</th>\n",
       "    </tr>\n",
       "  </thead>\n",
       "  <tbody>\n",
       "    <tr>\n",
       "      <th>0</th>\n",
       "      <td>WE WANT TO TALK ABOUT OUR MARRIAGE</td>\n",
       "      <td>want talk marriage</td>\n",
       "    </tr>\n",
       "    <tr>\n",
       "      <th>1</th>\n",
       "      <td>The Trump Presidency: Last Week Tonight with J...</td>\n",
       "      <td>trump presidency: last week tonight john olive...</td>\n",
       "    </tr>\n",
       "    <tr>\n",
       "      <th>2</th>\n",
       "      <td>Racist Superman | Rudy Mancuso, King Bach &amp; Le...</td>\n",
       "      <td>racist superman | rudy mancuso, king bach &amp; le...</td>\n",
       "    </tr>\n",
       "    <tr>\n",
       "      <th>3</th>\n",
       "      <td>Nickelback Lyrics: Real or Fake?</td>\n",
       "      <td>nickelback lyrics: real fake?</td>\n",
       "    </tr>\n",
       "    <tr>\n",
       "      <th>4</th>\n",
       "      <td>I Dare You: GOING BALD!?</td>\n",
       "      <td>dare you: going bald!?</td>\n",
       "    </tr>\n",
       "  </tbody>\n",
       "</table>\n",
       "</div>"
      ],
      "text/plain": [
       "                                               Title  \\\n",
       "0                 WE WANT TO TALK ABOUT OUR MARRIAGE   \n",
       "1  The Trump Presidency: Last Week Tonight with J...   \n",
       "2  Racist Superman | Rudy Mancuso, King Bach & Le...   \n",
       "3                   Nickelback Lyrics: Real or Fake?   \n",
       "4                           I Dare You: GOING BALD!?   \n",
       "\n",
       "                             Title_without_stopwords  \n",
       "0                                 want talk marriage  \n",
       "1  trump presidency: last week tonight john olive...  \n",
       "2  racist superman | rudy mancuso, king bach & le...  \n",
       "3                      nickelback lyrics: real fake?  \n",
       "4                             dare you: going bald!?  "
      ]
     },
     "execution_count": 279,
     "metadata": {},
     "output_type": "execute_result"
    }
   ],
   "source": [
    "def remove_stopword(text):\n",
    "    stop_words = stopwords.words('english')\n",
    "    #stopwords_dict = Counter(stop_words)\n",
    "    text = ' '.join([word for word in text.split() if word not in stop_words])\n",
    "    return text\n",
    "\n",
    "df['Title_without_stopwords']=df['Title'].str.lower().apply(lambda x: remove_stopword(x))\n",
    "\n",
    "df[['Title','Title_without_stopwords']].head()"
   ]
  },
  {
   "attachments": {},
   "cell_type": "markdown",
   "metadata": {},
   "source": [
    "Selanjutnya, kita hanya tertarik pada kata, maka kita tidak akan include angka maupun tanda baca. Kolom baru 'Title_clean' adalah kolom baru yang hanya berisi huruf"
   ]
  },
  {
   "cell_type": "code",
   "execution_count": 280,
   "metadata": {},
   "outputs": [
    {
     "data": {
      "text/html": [
       "<div>\n",
       "<style scoped>\n",
       "    .dataframe tbody tr th:only-of-type {\n",
       "        vertical-align: middle;\n",
       "    }\n",
       "\n",
       "    .dataframe tbody tr th {\n",
       "        vertical-align: top;\n",
       "    }\n",
       "\n",
       "    .dataframe thead th {\n",
       "        text-align: right;\n",
       "    }\n",
       "</style>\n",
       "<table border=\"1\" class=\"dataframe\">\n",
       "  <thead>\n",
       "    <tr style=\"text-align: right;\">\n",
       "      <th></th>\n",
       "      <th>Title_without_stopwords</th>\n",
       "      <th>Title_clean</th>\n",
       "    </tr>\n",
       "  </thead>\n",
       "  <tbody>\n",
       "    <tr>\n",
       "      <th>0</th>\n",
       "      <td>want talk marriage</td>\n",
       "      <td>want talk marriage</td>\n",
       "    </tr>\n",
       "    <tr>\n",
       "      <th>1</th>\n",
       "      <td>trump presidency: last week tonight john olive...</td>\n",
       "      <td>trump presidency  last week tonight john olive...</td>\n",
       "    </tr>\n",
       "    <tr>\n",
       "      <th>2</th>\n",
       "      <td>racist superman | rudy mancuso, king bach &amp; le...</td>\n",
       "      <td>racist superman   rudy mancuso  king bach   le...</td>\n",
       "    </tr>\n",
       "    <tr>\n",
       "      <th>3</th>\n",
       "      <td>nickelback lyrics: real fake?</td>\n",
       "      <td>nickelback lyrics  real fake</td>\n",
       "    </tr>\n",
       "    <tr>\n",
       "      <th>4</th>\n",
       "      <td>dare you: going bald!?</td>\n",
       "      <td>dare you  going bald</td>\n",
       "    </tr>\n",
       "  </tbody>\n",
       "</table>\n",
       "</div>"
      ],
      "text/plain": [
       "                             Title_without_stopwords  \\\n",
       "0                                 want talk marriage   \n",
       "1  trump presidency: last week tonight john olive...   \n",
       "2  racist superman | rudy mancuso, king bach & le...   \n",
       "3                      nickelback lyrics: real fake?   \n",
       "4                             dare you: going bald!?   \n",
       "\n",
       "                                         Title_clean  \n",
       "0                                 want talk marriage  \n",
       "1  trump presidency  last week tonight john olive...  \n",
       "2  racist superman   rudy mancuso  king bach   le...  \n",
       "3                      nickelback lyrics  real fake   \n",
       "4                             dare you  going bald    "
      ]
     },
     "execution_count": 280,
     "metadata": {},
     "output_type": "execute_result"
    }
   ],
   "source": [
    "df['Title_clean'] = df['Title_without_stopwords'].str.replace('[^a-zA-Z]', ' ')\n",
    "df[['Title_without_stopwords','Title_clean']].head()"
   ]
  },
  {
   "attachments": {},
   "cell_type": "markdown",
   "metadata": {},
   "source": [
    "Dari kolom title_clean, kita akan menghapus kata yang hanya berisi 1 huruf, karena kata dengan 1 huruf tidak memiliki arti). Lalu, kita akan tampilkan 20 kata yang paling sering muncul pada title video"
   ]
  },
  {
   "cell_type": "code",
   "execution_count": 281,
   "metadata": {},
   "outputs": [
    {
     "data": {
      "text/html": [
       "<div>\n",
       "<style scoped>\n",
       "    .dataframe tbody tr th:only-of-type {\n",
       "        vertical-align: middle;\n",
       "    }\n",
       "\n",
       "    .dataframe tbody tr th {\n",
       "        vertical-align: top;\n",
       "    }\n",
       "\n",
       "    .dataframe thead th {\n",
       "        text-align: right;\n",
       "    }\n",
       "</style>\n",
       "<table border=\"1\" class=\"dataframe\">\n",
       "  <thead>\n",
       "    <tr style=\"text-align: right;\">\n",
       "      <th></th>\n",
       "      <th>Common words</th>\n",
       "      <th>Freq</th>\n",
       "    </tr>\n",
       "  </thead>\n",
       "  <tbody>\n",
       "    <tr>\n",
       "      <th>0</th>\n",
       "      <td>official</td>\n",
       "      <td>3974</td>\n",
       "    </tr>\n",
       "    <tr>\n",
       "      <th>1</th>\n",
       "      <td>video</td>\n",
       "      <td>2826</td>\n",
       "    </tr>\n",
       "    <tr>\n",
       "      <th>2</th>\n",
       "      <td>trailer</td>\n",
       "      <td>1998</td>\n",
       "    </tr>\n",
       "    <tr>\n",
       "      <th>3</th>\n",
       "      <td>ft</td>\n",
       "      <td>1314</td>\n",
       "    </tr>\n",
       "    <tr>\n",
       "      <th>4</th>\n",
       "      <td>vs</td>\n",
       "      <td>1024</td>\n",
       "    </tr>\n",
       "    <tr>\n",
       "      <th>5</th>\n",
       "      <td>new</td>\n",
       "      <td>997</td>\n",
       "    </tr>\n",
       "    <tr>\n",
       "      <th>6</th>\n",
       "      <td>makeup</td>\n",
       "      <td>876</td>\n",
       "    </tr>\n",
       "    <tr>\n",
       "      <th>7</th>\n",
       "      <td>audio</td>\n",
       "      <td>870</td>\n",
       "    </tr>\n",
       "    <tr>\n",
       "      <th>8</th>\n",
       "      <td>music</td>\n",
       "      <td>825</td>\n",
       "    </tr>\n",
       "    <tr>\n",
       "      <th>9</th>\n",
       "      <td>hd</td>\n",
       "      <td>791</td>\n",
       "    </tr>\n",
       "    <tr>\n",
       "      <th>10</th>\n",
       "      <td>live</td>\n",
       "      <td>765</td>\n",
       "    </tr>\n",
       "    <tr>\n",
       "      <th>11</th>\n",
       "      <td>first</td>\n",
       "      <td>749</td>\n",
       "    </tr>\n",
       "    <tr>\n",
       "      <th>12</th>\n",
       "      <td>day</td>\n",
       "      <td>695</td>\n",
       "    </tr>\n",
       "    <tr>\n",
       "      <th>13</th>\n",
       "      <td>challenge</td>\n",
       "      <td>670</td>\n",
       "    </tr>\n",
       "    <tr>\n",
       "      <th>14</th>\n",
       "      <td>full</td>\n",
       "      <td>615</td>\n",
       "    </tr>\n",
       "    <tr>\n",
       "      <th>15</th>\n",
       "      <td>game</td>\n",
       "      <td>604</td>\n",
       "    </tr>\n",
       "    <tr>\n",
       "      <th>16</th>\n",
       "      <td>black</td>\n",
       "      <td>588</td>\n",
       "    </tr>\n",
       "    <tr>\n",
       "      <th>17</th>\n",
       "      <td>star</td>\n",
       "      <td>572</td>\n",
       "    </tr>\n",
       "    <tr>\n",
       "      <th>18</th>\n",
       "      <td>world</td>\n",
       "      <td>571</td>\n",
       "    </tr>\n",
       "    <tr>\n",
       "      <th>19</th>\n",
       "      <td>make</td>\n",
       "      <td>568</td>\n",
       "    </tr>\n",
       "  </tbody>\n",
       "</table>\n",
       "</div>"
      ],
      "text/plain": [
       "   Common words  Freq\n",
       "0      official  3974\n",
       "1         video  2826\n",
       "2       trailer  1998\n",
       "3            ft  1314\n",
       "4            vs  1024\n",
       "5           new   997\n",
       "6        makeup   876\n",
       "7         audio   870\n",
       "8         music   825\n",
       "9            hd   791\n",
       "10         live   765\n",
       "11        first   749\n",
       "12          day   695\n",
       "13    challenge   670\n",
       "14         full   615\n",
       "15         game   604\n",
       "16        black   588\n",
       "17         star   572\n",
       "18        world   571\n",
       "19         make   568"
      ]
     },
     "execution_count": 281,
     "metadata": {},
     "output_type": "execute_result"
    }
   ],
   "source": [
    "title_words = list(df[\"Title_clean\"].apply(lambda x: x.split()))\n",
    "title_words = [x for y in title_words for x in y]\n",
    "\n",
    "for i in title_words:\n",
    "    if len(i)<2:\n",
    "        title_words.remove(i)\n",
    "\n",
    "common_words = Counter(title_words).most_common(20)\n",
    "\n",
    "list1 = []\n",
    "list2 = []\n",
    "\n",
    "for i in range (len(common_words)):\n",
    "    list1.append(common_words[i][0])\n",
    "    list2.append(common_words[i][1])\n",
    "\n",
    "common_words_title = pd.DataFrame(list(zip(list1, list2)),\n",
    "               columns =['Common words', 'Freq'])\n",
    "\n",
    "common_words_title\n"
   ]
  },
  {
   "cell_type": "code",
   "execution_count": 282,
   "metadata": {},
   "outputs": [
    {
     "data": {
      "text/plain": [
       "Text(0.5, 1.0, 'Most common words found on youtube trending videos title')"
      ]
     },
     "execution_count": 282,
     "metadata": {},
     "output_type": "execute_result"
    },
    {
     "data": {
      "image/png": "[encoded data removed]",
      "text/plain": [
       "<Figure size 640x480 with 1 Axes>"
      ]
     },
     "metadata": {},
     "output_type": "display_data"
    }
   ],
   "source": [
    "sns.barplot(data=common_words_title, y='Common words', x='Freq', palette='colorblind', orient='h')\n",
    "plt.title('Most common words found on youtube trending videos title')"
   ]
  },
  {
   "attachments": {},
   "cell_type": "markdown",
   "metadata": {},
   "source": [
    "### Berdasarkan nama channel: `Channel`\n",
    "\n",
    "Kita akan menganalisa kolom  `Channel` untuk melihat channel yang paling sering muncul di trending."
   ]
  },
  {
   "attachments": {},
   "cell_type": "markdown",
   "metadata": {},
   "source": [
    "Mari kita tampilkan 20 channel dengan jumlah video trending terbanyak"
   ]
  },
  {
   "cell_type": "code",
   "execution_count": 283,
   "metadata": {},
   "outputs": [
    {
     "data": {
      "image/png": "[encoded data removed]",
      "text/plain": [
       "<Figure size 640x480 with 1 Axes>"
      ]
     },
     "metadata": {},
     "output_type": "display_data"
    }
   ],
   "source": [
    "df['Channel'].value_counts().head(20).sort_values().plot(kind='barh')\n",
    "plt.xlabel('# of days trending')\n",
    "plt.ylabel('Channel')\n",
    "plt.title('Top 20 channel with most trending videos')\n",
    "plt.show()"
   ]
  },
  {
   "attachments": {},
   "cell_type": "markdown",
   "metadata": {},
   "source": [
    "Hasil observasi: Mayoritas channel yang memiliki jumlah video trending yang banyak merupakan bagian dari sebuah perusahaan / instansi. Misalnya: ESPN dan NBA dari cabang olahraga; CNN, WIRED, INSIDER dari bagian news/journalism, dan lain-lain. \n",
    "\n",
    "Satu hal yang menarik adalah 6 dari 20 channel diatas (30%) merupakan Late Night TV shows, yaitu: \n",
    "* The Tonight Show Starring Jimmy Fallon\n",
    "* TheEllenShow\n",
    "* The Late Show with Stephen Colbert\n",
    "* Jimmy Kimmel Live\n",
    "* Late Night with Seth Meyers\n",
    "* The Late Late Show with James Corden\n",
    "\n",
    "Umumnya, pada acara TV shows seperti diatas, producer acara mengundang berbagai artis, olahragawan, tokoh-tokoh penting, ataupun seseorang yang sedang viral untuk melakukan wawancara santai. Ini bisa saja adalah salah satu faktor yang membuat video mereka trending "
   ]
  },
  {
   "attachments": {},
   "cell_type": "markdown",
   "metadata": {},
   "source": [
    "### Berdasarkan kategori video: `Category`\n",
    "Kita akan menganalisis kolom  `Category` untuk melihat kategori video apa saja yang sering trending"
   ]
  },
  {
   "cell_type": "code",
   "execution_count": 284,
   "metadata": {},
   "outputs": [
    {
     "data": {
      "image/png": "[encoded data removed]",
      "text/plain": [
       "<Figure size 640x480 with 1 Axes>"
      ]
     },
     "metadata": {},
     "output_type": "display_data"
    }
   ],
   "source": [
    "df['Category'].value_counts().sort_values().plot(kind='barh')\n",
    "plt.xlabel('# of videos trending')\n",
    "plt.ylabel('Categories')\n",
    "plt.title('Trending videos based on categories')\n",
    "plt.show()"
   ]
  },
  {
   "attachments": {},
   "cell_type": "markdown",
   "metadata": {},
   "source": [
    "Video dengan kategori entertainment merajai klasemen dengan angka mendekati 10,000 videos dari total 40,332 videos (~25%), diikuti oleh kategori musik di peringkat 2 terbanyak dan kategori HowTo & Style di peringkat 3 terbanyak"
   ]
  },
  {
   "attachments": {},
   "cell_type": "markdown",
   "metadata": {},
   "source": [
    "### Kolom Views, Likes, Dislikes, & Comment counts\n",
    "\n",
    "### Berdasarkan views, likes, dislikes dan comment counts: `'Views', 'Likes', 'Dislikes', & 'Comment count'`\n",
    "\n",
    "Kita akan menganalisis kolom `Views', 'Likes', 'Dislikes', & 'Comment count'` untuk menjawab beberapa pertanyaan:\n",
    "\n",
    "* Apakah distribusi views, likes, dislikes, dan comment counts merupakan distribusi normal?\n",
    "* Apakah ada korelasi antara views, likes, dislikes, dan comment counts ?\n",
    "* Apakah video yang trending di youtube mempunyai pattern tertentu pada views, likes, dislikes, dan comment counts?\n"
   ]
  },
  {
   "attachments": {},
   "cell_type": "markdown",
   "metadata": {},
   "source": [
    "Mari kita lihat secara lebih detail informasi mengenai kolom-kolom diatas"
   ]
  },
  {
   "cell_type": "code",
   "execution_count": 285,
   "metadata": {},
   "outputs": [
    {
     "name": "stdout",
     "output_type": "stream",
     "text": [
      "Distribusi Views Tidak Normal\n",
      "Distribusi Likes Tidak Normal\n",
      "Distribusi Dislikes Tidak Normal\n",
      "Distribusi Comment_count Tidak Normal\n"
     ]
    }
   ],
   "source": [
    "from scipy.stats import shapiro \n",
    "\n",
    "kstat, k_pval = shapiro(df['Views'])\n",
    "if k_pval<=0.05:\n",
    "    print('Distribusi Views Tidak Normal')\n",
    "else:\n",
    "    print('Distribusi Views Normal')\n",
    "\n",
    "kstat, k_pval = shapiro(df['Likes'])\n",
    "if k_pval<=0.05:\n",
    "    print('Distribusi Likes Tidak Normal')\n",
    "else:\n",
    "    print('Distribusi Likes Normal')\n",
    "\n",
    "kstat, k_pval = shapiro(df['Dislikes'])\n",
    "if k_pval<=0.05:\n",
    "    print('Distribusi Dislikes Tidak Normal')\n",
    "else:\n",
    "    print('Distribusi Dislikes Normal')\n",
    "\n",
    "kstat, k_pval = shapiro(df['Comment_count'])\n",
    "if k_pval<=0.05:\n",
    "    print('Distribusi Comment_count Tidak Normal')\n",
    "else:\n",
    "    print('Distribusi Comment_count Normal')"
   ]
  },
  {
   "cell_type": "code",
   "execution_count": 286,
   "metadata": {},
   "outputs": [
    {
     "data": {
      "text/html": [
       "<div>\n",
       "<style scoped>\n",
       "    .dataframe tbody tr th:only-of-type {\n",
       "        vertical-align: middle;\n",
       "    }\n",
       "\n",
       "    .dataframe tbody tr th {\n",
       "        vertical-align: top;\n",
       "    }\n",
       "\n",
       "    .dataframe thead th {\n",
       "        text-align: right;\n",
       "    }\n",
       "</style>\n",
       "<table border=\"1\" class=\"dataframe\">\n",
       "  <thead>\n",
       "    <tr style=\"text-align: right;\">\n",
       "      <th></th>\n",
       "      <th>Views</th>\n",
       "      <th>Likes</th>\n",
       "      <th>Dislikes</th>\n",
       "      <th>Comment_count</th>\n",
       "    </tr>\n",
       "  </thead>\n",
       "  <tbody>\n",
       "    <tr>\n",
       "      <th>count</th>\n",
       "      <td>4.033200e+04</td>\n",
       "      <td>4.033200e+04</td>\n",
       "      <td>4.033200e+04</td>\n",
       "      <td>4.033200e+04</td>\n",
       "    </tr>\n",
       "    <tr>\n",
       "      <th>mean</th>\n",
       "      <td>2.370824e+06</td>\n",
       "      <td>7.462234e+04</td>\n",
       "      <td>3.508185e+03</td>\n",
       "      <td>8.289092e+03</td>\n",
       "    </tr>\n",
       "    <tr>\n",
       "      <th>std</th>\n",
       "      <td>7.432121e+06</td>\n",
       "      <td>2.297311e+05</td>\n",
       "      <td>2.318773e+04</td>\n",
       "      <td>3.433488e+04</td>\n",
       "    </tr>\n",
       "    <tr>\n",
       "      <th>min</th>\n",
       "      <td>5.490000e+02</td>\n",
       "      <td>0.000000e+00</td>\n",
       "      <td>0.000000e+00</td>\n",
       "      <td>0.000000e+00</td>\n",
       "    </tr>\n",
       "    <tr>\n",
       "      <th>25%</th>\n",
       "      <td>2.466670e+05</td>\n",
       "      <td>5.615500e+03</td>\n",
       "      <td>2.040000e+02</td>\n",
       "      <td>6.230000e+02</td>\n",
       "    </tr>\n",
       "    <tr>\n",
       "      <th>50%</th>\n",
       "      <td>6.884230e+05</td>\n",
       "      <td>1.835150e+04</td>\n",
       "      <td>6.360000e+02</td>\n",
       "      <td>1.873000e+03</td>\n",
       "    </tr>\n",
       "    <tr>\n",
       "      <th>75%</th>\n",
       "      <td>1.832174e+06</td>\n",
       "      <td>5.563025e+04</td>\n",
       "      <td>1.945250e+03</td>\n",
       "      <td>5.785000e+03</td>\n",
       "    </tr>\n",
       "    <tr>\n",
       "      <th>max</th>\n",
       "      <td>2.252119e+08</td>\n",
       "      <td>5.613827e+06</td>\n",
       "      <td>1.643059e+06</td>\n",
       "      <td>1.228655e+06</td>\n",
       "    </tr>\n",
       "  </tbody>\n",
       "</table>\n",
       "</div>"
      ],
      "text/plain": [
       "              Views         Likes      Dislikes  Comment_count\n",
       "count  4.033200e+04  4.033200e+04  4.033200e+04   4.033200e+04\n",
       "mean   2.370824e+06  7.462234e+04  3.508185e+03   8.289092e+03\n",
       "std    7.432121e+06  2.297311e+05  2.318773e+04   3.433488e+04\n",
       "min    5.490000e+02  0.000000e+00  0.000000e+00   0.000000e+00\n",
       "25%    2.466670e+05  5.615500e+03  2.040000e+02   6.230000e+02\n",
       "50%    6.884230e+05  1.835150e+04  6.360000e+02   1.873000e+03\n",
       "75%    1.832174e+06  5.563025e+04  1.945250e+03   5.785000e+03\n",
       "max    2.252119e+08  5.613827e+06  1.643059e+06   1.228655e+06"
      ]
     },
     "execution_count": 286,
     "metadata": {},
     "output_type": "execute_result"
    }
   ],
   "source": [
    "df[['Views','Likes','Dislikes','Comment_count']].describe()"
   ]
  },
  {
   "attachments": {},
   "cell_type": "markdown",
   "metadata": {},
   "source": [
    "Dari tabel diatas, kita mengetahui beberapa informasi penting sebagai berikut:\n",
    "* Views pada video trending memiliki range 549 - 225 juta, dengan median *688 ribu* views. \n",
    "Sekitar 50% data berada di antara 246 ribu views dan 1.8 juta views\n",
    "* Likes pada video trending memiliki range 0 - 5.6 juta, dengan median *1835* likes \n",
    "* Dislikes pada video trending memiliki range 0 - 1.6 juta, dengan median *636* dislikes\n",
    "* Comment_count pada video trending memiliki range 0 - 1.2 juta, dengan median *1873* comments\n",
    "\n",
    "Kesimpulan:\n",
    "* Range dari views sangat besar, sehingga sulit untuk menjustifikasi bahwa views adalah faktor utama yang mempengaruhi video menjadi trending. Namun, persebaran data menunjukkan bahwa 50% videos memiliki views diantara 247 ribu views dan 1.8 juta views (angka yang tidak kecil)\n",
    "* Tidak semua video trending memiliki likes (minimum di kolom likes = 0) maupun dislikes (minimum di kolom dislikes = 0)\n",
    "* Tidak semua video trending yang tidak memiliki comment (minimum di kolom comment = 0)"
   ]
  },
  {
   "attachments": {},
   "cell_type": "markdown",
   "metadata": {},
   "source": [
    "Kita juga ingin melihat korelasi antara views dengan likes, dislikes, dan comment_count"
   ]
  },
  {
   "cell_type": "code",
   "execution_count": 287,
   "metadata": {},
   "outputs": [
    {
     "data": {
      "text/plain": [
       "<AxesSubplot: >"
      ]
     },
     "execution_count": 287,
     "metadata": {},
     "output_type": "execute_result"
    },
    {
     "data": {
      "image/png": "[encoded data removed]",
      "text/plain": [
       "<Figure size 640x480 with 2 Axes>"
      ]
     },
     "metadata": {},
     "output_type": "display_data"
    }
   ],
   "source": [
    "mask = np.triu(np.ones_like(df[['Views','Likes','Dislikes','Comment_count']].corr(method='spearman')))\n",
    "sns.heatmap(df[['Views','Likes','Dislikes','Comment_count']].corr(method='spearman'), annot=True, vmax=1, vmin=-1, cmap='RdBu', mask=mask,linewidth=0.5)   "
   ]
  },
  {
   "attachments": {},
   "cell_type": "markdown",
   "metadata": {},
   "source": [
    "Secara garis besar, likes, dislikes dan comment_count memiliki korelasi yang kuat terhadap views, yaitu:\n",
    "- Korelasi *views* dan *likes* : 0.86\n",
    "- Korelasi *views* dan *dislikes* : 0.85\n",
    "- Korelasi *views* dan *comment_count* : 0.8"
   ]
  },
  {
   "attachments": {},
   "cell_type": "markdown",
   "metadata": {},
   "source": [
    "### Berdasarkan kolom `Comments_Disabled`, `Ratings_Disabled` & `Video_error_or_removed`\n",
    "Kita akan menganalisis kolom `Comments_Disabled`, `Ratings_Disabled` & `Video_error_or_removed` untuk melihat apakah video yang trending di youtube mempunyai kesamaan di kolom-kolom diatas"
   ]
  },
  {
   "cell_type": "code",
   "execution_count": 288,
   "metadata": {},
   "outputs": [
    {
     "data": {
      "text/plain": [
       "False    39729\n",
       "True       603\n",
       "Name: Comments_disabled, dtype: int64"
      ]
     },
     "execution_count": 288,
     "metadata": {},
     "output_type": "execute_result"
    }
   ],
   "source": [
    "df['Comments_disabled'].value_counts()"
   ]
  },
  {
   "cell_type": "code",
   "execution_count": 289,
   "metadata": {},
   "outputs": [
    {
     "data": {
      "text/plain": [
       "Text(0.5, 1.0, 'Number of trending videos where comments are disabled')"
      ]
     },
     "execution_count": 289,
     "metadata": {},
     "output_type": "execute_result"
    },
    {
     "data": {
      "image/png": "[encoded data removed]",
      "text/plain": [
       "<Figure size 640x480 with 1 Axes>"
      ]
     },
     "metadata": {},
     "output_type": "display_data"
    }
   ],
   "source": [
    "df['Comments_disabled'].value_counts().plot(kind='bar') \n",
    "plt.xlabel('Comments_disabled')          \n",
    "plt.ylabel('# of videos')\n",
    "plt.title('Number of trending videos where comments are disabled')        "
   ]
  },
  {
   "cell_type": "code",
   "execution_count": 290,
   "metadata": {},
   "outputs": [
    {
     "data": {
      "text/plain": [
       "False    40163\n",
       "True       169\n",
       "Name: Ratings_disabled, dtype: int64"
      ]
     },
     "execution_count": 290,
     "metadata": {},
     "output_type": "execute_result"
    }
   ],
   "source": [
    "df['Ratings_disabled'].value_counts()"
   ]
  },
  {
   "cell_type": "code",
   "execution_count": 291,
   "metadata": {},
   "outputs": [
    {
     "data": {
      "text/plain": [
       "Text(0.5, 1.0, 'Number of trending videos where ratings are disabled')"
      ]
     },
     "execution_count": 291,
     "metadata": {},
     "output_type": "execute_result"
    },
    {
     "data": {
      "image/png": "[encoded data removed]",
      "text/plain": [
       "<Figure size 640x480 with 1 Axes>"
      ]
     },
     "metadata": {},
     "output_type": "display_data"
    }
   ],
   "source": [
    "df['Ratings_disabled'].value_counts().plot(kind='bar') \n",
    "plt.xlabel('Ratings_disabled')          \n",
    "plt.ylabel('# of videos')\n",
    "plt.title('Number of trending videos where ratings are disabled')  "
   ]
  },
  {
   "cell_type": "code",
   "execution_count": 292,
   "metadata": {},
   "outputs": [
    {
     "data": {
      "text/plain": [
       "False    40311\n",
       "True        21\n",
       "Name: Video_error_or_removed, dtype: int64"
      ]
     },
     "execution_count": 292,
     "metadata": {},
     "output_type": "execute_result"
    }
   ],
   "source": [
    "df['Video_error_or_removed'].value_counts()"
   ]
  },
  {
   "cell_type": "code",
   "execution_count": 293,
   "metadata": {},
   "outputs": [
    {
     "data": {
      "text/plain": [
       "Text(0.5, 1.0, 'Number of trending videos where the video is error or removed')"
      ]
     },
     "execution_count": 293,
     "metadata": {},
     "output_type": "execute_result"
    },
    {
     "data": {
      "image/png": "[encoded data removed]",
      "text/plain": [
       "<Figure size 640x480 with 1 Axes>"
      ]
     },
     "metadata": {},
     "output_type": "display_data"
    }
   ],
   "source": [
    "df['Video_error_or_removed'].value_counts().plot(kind='bar') \n",
    "plt.xlabel('Video_error_or_removed')          \n",
    "plt.ylabel('# of videos')\n",
    "plt.title('Number of trending videos where the video is error or removed')  "
   ]
  },
  {
   "attachments": {},
   "cell_type": "markdown",
   "metadata": {},
   "source": [
    "Dari output 3 grafik diatas, kita dapat simpulkan bahwa mayoritas (>98%) dari trending videos tidak men-disable bagian comments & ratings. Disamping itu, lebih dari 99% dari video trending tidak pernah mengalami error atau di-remove dari youtube sebelumnya. "
   ]
  },
  {
   "attachments": {},
   "cell_type": "markdown",
   "metadata": {},
   "source": [
    "### Berdasarkan publish date video: `Publish_day` & `Publish_hour`\n",
    "Kita akan menganalisis kolom `Publish_day` & `Publish_hour` untuk mencari tau kapan waktu yang paling optimal untuk publish video ke youtube"
   ]
  },
  {
   "cell_type": "code",
   "execution_count": 294,
   "metadata": {},
   "outputs": [
    {
     "data": {
      "text/plain": [
       "Thursday     6873\n",
       "Friday       6831\n",
       "Wednesday    6687\n",
       "Tuesday      6686\n",
       "Monday       6072\n",
       "Sunday       3623\n",
       "Saturday     3560\n",
       "Name: Publish_day, dtype: int64"
      ]
     },
     "execution_count": 294,
     "metadata": {},
     "output_type": "execute_result"
    }
   ],
   "source": [
    "df['Publish_day'].value_counts()"
   ]
  },
  {
   "cell_type": "code",
   "execution_count": 295,
   "metadata": {},
   "outputs": [
    {
     "data": {
      "text/plain": [
       "Text(0.5, 1.0, '# of trending videos published based on day of the week')"
      ]
     },
     "execution_count": 295,
     "metadata": {},
     "output_type": "execute_result"
    },
    {
     "data": {
      "image/png": "[encoded data removed]",
      "text/plain": [
       "<Figure size 640x480 with 1 Axes>"
      ]
     },
     "metadata": {},
     "output_type": "display_data"
    }
   ],
   "source": [
    "df['Publish_day'].value_counts().plot(kind='bar')\n",
    "plt.xlabel('Day of the week')\n",
    "plt.ylabel('# of videos published')\n",
    "plt.title('# of trending videos published based on day of the week')"
   ]
  },
  {
   "cell_type": "code",
   "execution_count": 296,
   "metadata": {},
   "outputs": [
    {
     "data": {
      "text/plain": [
       "Text(0.5, 1.0, 'Publishing hour and # of videos ')"
      ]
     },
     "execution_count": 296,
     "metadata": {},
     "output_type": "execute_result"
    },
    {
     "data": {
      "image/png": "[encoded data removed]",
      "text/plain": [
       "<Figure size 640x480 with 1 Axes>"
      ]
     },
     "metadata": {},
     "output_type": "display_data"
    }
   ],
   "source": [
    "sns.countplot(x=df[\"Publish_hour\"])\n",
    "plt.ylabel('# of videos')\n",
    "plt.title('Publishing hour and # of videos ')"
   ]
  },
  {
   "attachments": {},
   "cell_type": "markdown",
   "metadata": {},
   "source": [
    "### Berdasarkan tags video: `Tags`\n",
    "Kita akan menganalisis kolom  `Tags` untuk melihat jumlah tags pada setiap video"
   ]
  },
  {
   "cell_type": "code",
   "execution_count": 297,
   "metadata": {},
   "outputs": [
    {
     "data": {
      "text/html": [
       "<div>\n",
       "<style scoped>\n",
       "    .dataframe tbody tr th:only-of-type {\n",
       "        vertical-align: middle;\n",
       "    }\n",
       "\n",
       "    .dataframe tbody tr th {\n",
       "        vertical-align: top;\n",
       "    }\n",
       "\n",
       "    .dataframe thead th {\n",
       "        text-align: right;\n",
       "    }\n",
       "</style>\n",
       "<table border=\"1\" class=\"dataframe\">\n",
       "  <thead>\n",
       "    <tr style=\"text-align: right;\">\n",
       "      <th></th>\n",
       "      <th>Tags</th>\n",
       "      <th>Count_Tags</th>\n",
       "    </tr>\n",
       "  </thead>\n",
       "  <tbody>\n",
       "    <tr>\n",
       "      <th>0</th>\n",
       "      <td>SHANtell martin</td>\n",
       "      <td>1</td>\n",
       "    </tr>\n",
       "    <tr>\n",
       "      <th>1</th>\n",
       "      <td>last week tonight trump presidency|\"last week ...</td>\n",
       "      <td>4</td>\n",
       "    </tr>\n",
       "    <tr>\n",
       "      <th>2</th>\n",
       "      <td>racist superman|\"rudy\"|\"mancuso\"|\"king\"|\"bach\"...</td>\n",
       "      <td>23</td>\n",
       "    </tr>\n",
       "    <tr>\n",
       "      <th>3</th>\n",
       "      <td>rhett and link|\"gmm\"|\"good mythical morning\"|\"...</td>\n",
       "      <td>27</td>\n",
       "    </tr>\n",
       "    <tr>\n",
       "      <th>4</th>\n",
       "      <td>ryan|\"higa\"|\"higatv\"|\"nigahiga\"|\"i dare you\"|\"...</td>\n",
       "      <td>14</td>\n",
       "    </tr>\n",
       "  </tbody>\n",
       "</table>\n",
       "</div>"
      ],
      "text/plain": [
       "                                                Tags  Count_Tags\n",
       "0                                    SHANtell martin           1\n",
       "1  last week tonight trump presidency|\"last week ...           4\n",
       "2  racist superman|\"rudy\"|\"mancuso\"|\"king\"|\"bach\"...          23\n",
       "3  rhett and link|\"gmm\"|\"good mythical morning\"|\"...          27\n",
       "4  ryan|\"higa\"|\"higatv\"|\"nigahiga\"|\"i dare you\"|\"...          14"
      ]
     },
     "execution_count": 297,
     "metadata": {},
     "output_type": "execute_result"
    }
   ],
   "source": [
    "df['Count_Tags'] = df['Tags'].str.split('|')\n",
    "df['Count_Tags'] = df['Count_Tags'].str.len()\n",
    "df[['Tags','Count_Tags']].head()"
   ]
  },
  {
   "cell_type": "code",
   "execution_count": 298,
   "metadata": {},
   "outputs": [
    {
     "data": {
      "text/plain": [
       "1     1632\n",
       "10    1427\n",
       "7     1365\n",
       "4     1364\n",
       "13    1289\n",
       "      ... \n",
       "63      16\n",
       "61       9\n",
       "59       5\n",
       "65       2\n",
       "60       1\n",
       "Name: Count_Tags, Length: 65, dtype: int64"
      ]
     },
     "execution_count": 298,
     "metadata": {},
     "output_type": "execute_result"
    }
   ],
   "source": [
    "df['Count_Tags'].value_counts()"
   ]
  },
  {
   "cell_type": "code",
   "execution_count": 299,
   "metadata": {},
   "outputs": [
    {
     "data": {
      "image/png": "[encoded data removed]",
      "text/plain": [
       "<Figure size 640x480 with 1 Axes>"
      ]
     },
     "metadata": {},
     "output_type": "display_data"
    }
   ],
   "source": [
    "plt.hist(df[\"Count_Tags\"], bins=10, color='green')\n",
    "plt.xlabel('# of tags')\n",
    "plt.ylabel('Frequency')\n",
    "plt.title('# of tags per video and its frequency')\n",
    "plt.show()"
   ]
  },
  {
   "attachments": {},
   "cell_type": "markdown",
   "metadata": {},
   "source": [
    "Bisa dilihat dari grafik diatas bahwa mayoritas videos memiliki tags yg tidak terlalu banyak (Jumlah tags dengan videos terbanyak adalah sekitar 8-15 tags)"
   ]
  },
  {
   "cell_type": "code",
   "execution_count": 300,
   "metadata": {},
   "outputs": [
    {
     "data": {
      "text/html": [
       "<div>\n",
       "<style scoped>\n",
       "    .dataframe tbody tr th:only-of-type {\n",
       "        vertical-align: middle;\n",
       "    }\n",
       "\n",
       "    .dataframe tbody tr th {\n",
       "        vertical-align: top;\n",
       "    }\n",
       "\n",
       "    .dataframe thead th {\n",
       "        text-align: right;\n",
       "    }\n",
       "</style>\n",
       "<table border=\"1\" class=\"dataframe\">\n",
       "  <thead>\n",
       "    <tr style=\"text-align: right;\">\n",
       "      <th></th>\n",
       "      <th>Tags</th>\n",
       "      <th>Tags_without_stopwords</th>\n",
       "    </tr>\n",
       "  </thead>\n",
       "  <tbody>\n",
       "    <tr>\n",
       "      <th>0</th>\n",
       "      <td>SHANtell martin</td>\n",
       "      <td>shantell martin</td>\n",
       "    </tr>\n",
       "    <tr>\n",
       "      <th>1</th>\n",
       "      <td>last week tonight trump presidency|\"last week ...</td>\n",
       "      <td>last week tonight trump presidency|\"last week ...</td>\n",
       "    </tr>\n",
       "    <tr>\n",
       "      <th>2</th>\n",
       "      <td>racist superman|\"rudy\"|\"mancuso\"|\"king\"|\"bach\"...</td>\n",
       "      <td>racist superman|\"rudy\"|\"mancuso\"|\"king\"|\"bach\"...</td>\n",
       "    </tr>\n",
       "    <tr>\n",
       "      <th>3</th>\n",
       "      <td>rhett and link|\"gmm\"|\"good mythical morning\"|\"...</td>\n",
       "      <td>rhett link|\"gmm\"|\"good mythical morning\"|\"rhet...</td>\n",
       "    </tr>\n",
       "    <tr>\n",
       "      <th>4</th>\n",
       "      <td>ryan|\"higa\"|\"higatv\"|\"nigahiga\"|\"i dare you\"|\"...</td>\n",
       "      <td>ryan|\"higa\"|\"higatv\"|\"nigahiga\"|\"i dare you\"|\"...</td>\n",
       "    </tr>\n",
       "  </tbody>\n",
       "</table>\n",
       "</div>"
      ],
      "text/plain": [
       "                                                Tags  \\\n",
       "0                                    SHANtell martin   \n",
       "1  last week tonight trump presidency|\"last week ...   \n",
       "2  racist superman|\"rudy\"|\"mancuso\"|\"king\"|\"bach\"...   \n",
       "3  rhett and link|\"gmm\"|\"good mythical morning\"|\"...   \n",
       "4  ryan|\"higa\"|\"higatv\"|\"nigahiga\"|\"i dare you\"|\"...   \n",
       "\n",
       "                              Tags_without_stopwords  \n",
       "0                                    shantell martin  \n",
       "1  last week tonight trump presidency|\"last week ...  \n",
       "2  racist superman|\"rudy\"|\"mancuso\"|\"king\"|\"bach\"...  \n",
       "3  rhett link|\"gmm\"|\"good mythical morning\"|\"rhet...  \n",
       "4  ryan|\"higa\"|\"higatv\"|\"nigahiga\"|\"i dare you\"|\"...  "
      ]
     },
     "execution_count": 300,
     "metadata": {},
     "output_type": "execute_result"
    }
   ],
   "source": [
    "def remove_stopword(text):\n",
    "    stop_words = stopwords.words('english')\n",
    "    #stopwords_dict = Counter(stop_words)\n",
    "    text = ' '.join([word for word in text.split() if word not in stop_words])\n",
    "    return text\n",
    "\n",
    "df['Tags_without_stopwords']=df['Tags'].str.lower().apply(lambda x: remove_stopword(x))\n",
    "\n",
    "df[['Tags','Tags_without_stopwords']].head()"
   ]
  },
  {
   "cell_type": "code",
   "execution_count": 301,
   "metadata": {},
   "outputs": [
    {
     "data": {
      "text/html": [
       "<div>\n",
       "<style scoped>\n",
       "    .dataframe tbody tr th:only-of-type {\n",
       "        vertical-align: middle;\n",
       "    }\n",
       "\n",
       "    .dataframe tbody tr th {\n",
       "        vertical-align: top;\n",
       "    }\n",
       "\n",
       "    .dataframe thead th {\n",
       "        text-align: right;\n",
       "    }\n",
       "</style>\n",
       "<table border=\"1\" class=\"dataframe\">\n",
       "  <thead>\n",
       "    <tr style=\"text-align: right;\">\n",
       "      <th></th>\n",
       "      <th>Tags_without_stopwords</th>\n",
       "      <th>Tags_clean</th>\n",
       "    </tr>\n",
       "  </thead>\n",
       "  <tbody>\n",
       "    <tr>\n",
       "      <th>0</th>\n",
       "      <td>shantell martin</td>\n",
       "      <td>shantell martin</td>\n",
       "    </tr>\n",
       "    <tr>\n",
       "      <th>1</th>\n",
       "      <td>last week tonight trump presidency|\"last week ...</td>\n",
       "      <td>last week tonight trump presidency  last week ...</td>\n",
       "    </tr>\n",
       "    <tr>\n",
       "      <th>2</th>\n",
       "      <td>racist superman|\"rudy\"|\"mancuso\"|\"king\"|\"bach\"...</td>\n",
       "      <td>racist superman  rudy   mancuso   king   bach ...</td>\n",
       "    </tr>\n",
       "    <tr>\n",
       "      <th>3</th>\n",
       "      <td>rhett link|\"gmm\"|\"good mythical morning\"|\"rhet...</td>\n",
       "      <td>rhett link  gmm   good mythical morning   rhet...</td>\n",
       "    </tr>\n",
       "    <tr>\n",
       "      <th>4</th>\n",
       "      <td>ryan|\"higa\"|\"higatv\"|\"nigahiga\"|\"i dare you\"|\"...</td>\n",
       "      <td>ryan  higa   higatv   nigahiga   i dare you   ...</td>\n",
       "    </tr>\n",
       "  </tbody>\n",
       "</table>\n",
       "</div>"
      ],
      "text/plain": [
       "                              Tags_without_stopwords  \\\n",
       "0                                    shantell martin   \n",
       "1  last week tonight trump presidency|\"last week ...   \n",
       "2  racist superman|\"rudy\"|\"mancuso\"|\"king\"|\"bach\"...   \n",
       "3  rhett link|\"gmm\"|\"good mythical morning\"|\"rhet...   \n",
       "4  ryan|\"higa\"|\"higatv\"|\"nigahiga\"|\"i dare you\"|\"...   \n",
       "\n",
       "                                          Tags_clean  \n",
       "0                                    shantell martin  \n",
       "1  last week tonight trump presidency  last week ...  \n",
       "2  racist superman  rudy   mancuso   king   bach ...  \n",
       "3  rhett link  gmm   good mythical morning   rhet...  \n",
       "4  ryan  higa   higatv   nigahiga   i dare you   ...  "
      ]
     },
     "execution_count": 301,
     "metadata": {},
     "output_type": "execute_result"
    }
   ],
   "source": [
    "df['Tags_clean'] = df['Tags_without_stopwords'].str.replace('[^a-zA-Z]', ' ')\n",
    "df[['Tags_without_stopwords','Tags_clean']].head()"
   ]
  },
  {
   "cell_type": "code",
   "execution_count": 302,
   "metadata": {},
   "outputs": [
    {
     "data": {
      "text/html": [
       "<div>\n",
       "<style scoped>\n",
       "    .dataframe tbody tr th:only-of-type {\n",
       "        vertical-align: middle;\n",
       "    }\n",
       "\n",
       "    .dataframe tbody tr th {\n",
       "        vertical-align: top;\n",
       "    }\n",
       "\n",
       "    .dataframe thead th {\n",
       "        text-align: right;\n",
       "    }\n",
       "</style>\n",
       "<table border=\"1\" class=\"dataframe\">\n",
       "  <thead>\n",
       "    <tr style=\"text-align: right;\">\n",
       "      <th></th>\n",
       "      <th>Common tags</th>\n",
       "      <th>Freq</th>\n",
       "    </tr>\n",
       "  </thead>\n",
       "  <tbody>\n",
       "    <tr>\n",
       "      <th>0</th>\n",
       "      <td>the</td>\n",
       "      <td>10026</td>\n",
       "    </tr>\n",
       "    <tr>\n",
       "      <th>1</th>\n",
       "      <td>video</td>\n",
       "      <td>8289</td>\n",
       "    </tr>\n",
       "    <tr>\n",
       "      <th>2</th>\n",
       "      <td>makeup</td>\n",
       "      <td>7948</td>\n",
       "    </tr>\n",
       "    <tr>\n",
       "      <th>3</th>\n",
       "      <td>funny</td>\n",
       "      <td>7303</td>\n",
       "    </tr>\n",
       "    <tr>\n",
       "      <th>4</th>\n",
       "      <td>new</td>\n",
       "      <td>7082</td>\n",
       "    </tr>\n",
       "    <tr>\n",
       "      <th>5</th>\n",
       "      <td>how</td>\n",
       "      <td>6927</td>\n",
       "    </tr>\n",
       "    <tr>\n",
       "      <th>6</th>\n",
       "      <td>music</td>\n",
       "      <td>6539</td>\n",
       "    </tr>\n",
       "    <tr>\n",
       "      <th>7</th>\n",
       "      <td>show</td>\n",
       "      <td>5994</td>\n",
       "    </tr>\n",
       "    <tr>\n",
       "      <th>8</th>\n",
       "      <td>news</td>\n",
       "      <td>5878</td>\n",
       "    </tr>\n",
       "    <tr>\n",
       "      <th>9</th>\n",
       "      <td>food</td>\n",
       "      <td>4812</td>\n",
       "    </tr>\n",
       "    <tr>\n",
       "      <th>10</th>\n",
       "      <td>comedy</td>\n",
       "      <td>4754</td>\n",
       "    </tr>\n",
       "    <tr>\n",
       "      <th>11</th>\n",
       "      <td>trailer</td>\n",
       "      <td>4609</td>\n",
       "    </tr>\n",
       "    <tr>\n",
       "      <th>12</th>\n",
       "      <td>youtube</td>\n",
       "      <td>4494</td>\n",
       "    </tr>\n",
       "    <tr>\n",
       "      <th>13</th>\n",
       "      <td>movie</td>\n",
       "      <td>4403</td>\n",
       "    </tr>\n",
       "    <tr>\n",
       "      <th>14</th>\n",
       "      <td>best</td>\n",
       "      <td>4030</td>\n",
       "    </tr>\n",
       "    <tr>\n",
       "      <th>15</th>\n",
       "      <td>live</td>\n",
       "      <td>3721</td>\n",
       "    </tr>\n",
       "    <tr>\n",
       "      <th>16</th>\n",
       "      <td>official</td>\n",
       "      <td>3511</td>\n",
       "    </tr>\n",
       "    <tr>\n",
       "      <th>17</th>\n",
       "      <td>challenge</td>\n",
       "      <td>3496</td>\n",
       "    </tr>\n",
       "    <tr>\n",
       "      <th>18</th>\n",
       "      <td>black</td>\n",
       "      <td>3301</td>\n",
       "    </tr>\n",
       "    <tr>\n",
       "      <th>19</th>\n",
       "      <td>tutorial</td>\n",
       "      <td>3007</td>\n",
       "    </tr>\n",
       "  </tbody>\n",
       "</table>\n",
       "</div>"
      ],
      "text/plain": [
       "   Common tags   Freq\n",
       "0          the  10026\n",
       "1        video   8289\n",
       "2       makeup   7948\n",
       "3        funny   7303\n",
       "4          new   7082\n",
       "5          how   6927\n",
       "6        music   6539\n",
       "7         show   5994\n",
       "8         news   5878\n",
       "9         food   4812\n",
       "10      comedy   4754\n",
       "11     trailer   4609\n",
       "12     youtube   4494\n",
       "13       movie   4403\n",
       "14        best   4030\n",
       "15        live   3721\n",
       "16    official   3511\n",
       "17   challenge   3496\n",
       "18       black   3301\n",
       "19    tutorial   3007"
      ]
     },
     "execution_count": 302,
     "metadata": {},
     "output_type": "execute_result"
    }
   ],
   "source": [
    "tags_words = list(df[\"Tags_clean\"].apply(lambda x: x.split()))\n",
    "tags_words = [x for y in tags_words for x in y]\n",
    "\n",
    "for i in tags_words:\n",
    "    if len(i)<2:\n",
    "        tags_words.remove(i)\n",
    "\n",
    "common_tags = Counter(tags_words).most_common(20)\n",
    "\n",
    "list1 = []\n",
    "list2 = []\n",
    "\n",
    "for i in range (len(common_tags)):\n",
    "    list1.append(common_tags[i][0])\n",
    "    list2.append(common_tags[i][1])\n",
    "\n",
    "common_words_tags = pd.DataFrame(list(zip(list1, list2)),\n",
    "               columns =['Common tags', 'Freq'])\n",
    "\n",
    "common_words_tags"
   ]
  },
  {
   "cell_type": "code",
   "execution_count": 303,
   "metadata": {},
   "outputs": [
    {
     "data": {
      "text/plain": [
       "Text(0.5, 1.0, 'Most common tags found on youtube trending videos title')"
      ]
     },
     "execution_count": 303,
     "metadata": {},
     "output_type": "execute_result"
    },
    {
     "data": {
      "image/png": "[encoded data removed]",
      "text/plain": [
       "<Figure size 640x480 with 1 Axes>"
      ]
     },
     "metadata": {},
     "output_type": "display_data"
    }
   ],
   "source": [
    "sns.barplot(data=common_words_tags, y='Common tags', x='Freq', palette='colorblind', orient='h')\n",
    "plt.title('Most common tags found on youtube trending videos title')"
   ]
  },
  {
   "attachments": {},
   "cell_type": "markdown",
   "metadata": {},
   "source": [
    "Bar plot diatas menunjukkan 20 kata yang paling sering muncul pada video trending di youtube. Dengan observasi yang lebih dekat, banyak kata-kata yang muncul pada tags juga muncul pada judul video (seperti: 'video', 'official', 'trailer', 'challenge' dan banyak lagi. Ini adalah hal yang masuk akal karena tags digunakan untuk memudahkan viewers untuk mencari video berdasarkan keyword tertentu. "
   ]
  },
  {
   "attachments": {},
   "cell_type": "markdown",
   "metadata": {},
   "source": [
    "### Berdasarkan description video: `Description`\n",
    "Kita akan menganalisis kolom  `Description` untuk melihat jumlah huruf pada kolom description pada setiap video"
   ]
  },
  {
   "cell_type": "code",
   "execution_count": 304,
   "metadata": {},
   "outputs": [
    {
     "data": {
      "text/html": [
       "<div>\n",
       "<style scoped>\n",
       "    .dataframe tbody tr th:only-of-type {\n",
       "        vertical-align: middle;\n",
       "    }\n",
       "\n",
       "    .dataframe tbody tr th {\n",
       "        vertical-align: top;\n",
       "    }\n",
       "\n",
       "    .dataframe thead th {\n",
       "        text-align: right;\n",
       "    }\n",
       "</style>\n",
       "<table border=\"1\" class=\"dataframe\">\n",
       "  <thead>\n",
       "    <tr style=\"text-align: right;\">\n",
       "      <th></th>\n",
       "      <th>Description</th>\n",
       "      <th>Description_length</th>\n",
       "    </tr>\n",
       "  </thead>\n",
       "  <tbody>\n",
       "    <tr>\n",
       "      <th>0</th>\n",
       "      <td>SHANTELL'S CHANNEL - https://www.youtube.com/s...</td>\n",
       "      <td>1410</td>\n",
       "    </tr>\n",
       "    <tr>\n",
       "      <th>1</th>\n",
       "      <td>One year after the presidential election, John...</td>\n",
       "      <td>630</td>\n",
       "    </tr>\n",
       "    <tr>\n",
       "      <th>2</th>\n",
       "      <td>WATCH MY PREVIOUS VIDEO ▶ \\n\\nSUBSCRIBE ► http...</td>\n",
       "      <td>1177</td>\n",
       "    </tr>\n",
       "    <tr>\n",
       "      <th>3</th>\n",
       "      <td>Today we find out if Link is a Nickelback amat...</td>\n",
       "      <td>1403</td>\n",
       "    </tr>\n",
       "    <tr>\n",
       "      <th>4</th>\n",
       "      <td>I know it's been a while since we did this sho...</td>\n",
       "      <td>636</td>\n",
       "    </tr>\n",
       "  </tbody>\n",
       "</table>\n",
       "</div>"
      ],
      "text/plain": [
       "                                         Description  Description_length\n",
       "0  SHANTELL'S CHANNEL - https://www.youtube.com/s...                1410\n",
       "1  One year after the presidential election, John...                 630\n",
       "2  WATCH MY PREVIOUS VIDEO ▶ \\n\\nSUBSCRIBE ► http...                1177\n",
       "3  Today we find out if Link is a Nickelback amat...                1403\n",
       "4  I know it's been a while since we did this sho...                 636"
      ]
     },
     "execution_count": 304,
     "metadata": {},
     "output_type": "execute_result"
    }
   ],
   "source": [
    "df['Description_length'] = df['Description'].str.len()\n",
    "df[['Description','Description_length']].head()\n"
   ]
  },
  {
   "cell_type": "code",
   "execution_count": 305,
   "metadata": {},
   "outputs": [
    {
     "data": {
      "image/png": "[encoded data removed]",
      "text/plain": [
       "<Figure size 640x480 with 1 Axes>"
      ]
     },
     "metadata": {},
     "output_type": "display_data"
    }
   ],
   "source": [
    "plt.hist(df[\"Description_length\"], bins=10, color='green')\n",
    "plt.xlabel('Description_length')\n",
    "plt.ylabel('Frequency')\n",
    "plt.title('Description length and its frequency')\n",
    "plt.show()"
   ]
  },
  {
   "attachments": {},
   "cell_type": "markdown",
   "metadata": {},
   "source": [
    "Observasi: Mayoritas video trending di youtube memiliki panjang description dibawah 1000 huruf. "
   ]
  },
  {
   "attachments": {},
   "cell_type": "markdown",
   "metadata": {},
   "source": [
    "Simpan file dalam excel yang akan digunakan untuk visualisasi di tableau"
   ]
  },
  {
   "cell_type": "code",
   "execution_count": 306,
   "metadata": {},
   "outputs": [],
   "source": [
    "df.to_excel('capstone2.xlsx')"
   ]
  },
  {
   "attachments": {},
   "cell_type": "markdown",
   "metadata": {},
   "source": [
    "# Kesimpulan dan Rekomendasi \n",
    "\n",
    "Dari analisis yang telah dilakukan, kita bisa membuat kesimpulan berikut tentang karakteristik video youtube yang trending:\n",
    "* Sebagian besar dari video trending youtube memiliki judul video dengan panjang diantara 30-60 huruf.\n",
    "* 79% video trending memiliki judul dengan campuran huruf kapital dan huruf kecil. \n",
    "* Kata-kata yang sering muncul pada judul video adalah 'official', 'video', 'trailer' dan juga kata-kata yang bersifat kolaboratif seperti: 'ft', 'vs', 'challenge'\n",
    "* Mayoritas channel yang memiliki jumlah video trending yang banyak merupakan bagian dari sebuah perusahaan / instansi. Misalnya: ESPN dan NBA dari cabang olahraga; CNN, WIRED, INSIDER dari bagian news/journalism, dan lain-lain. Satu hal yang menarik adalah 6 dari 20 channel diatas (30%) merupakan Late Night TV shows\n",
    "* Top 3 kategori video trending youtube: Entertainment, Music, dan HowTo&style\n",
    "* Persebaran views pada video trending tidak normal, dimana views video trending memiliki median 688 ribu views. \n",
    "* Mayoritas video trending youtube memiliki karakteristik: tidak menutup kolom komentar, tidak menutup kolom ratings, dan tidak pernah error/removed\n",
    "* Top 3 Publish day: Thursday, Friday, Wednesday\n",
    "* Bottom 2 Publish day: Saturday and Sunday (weekends)\n",
    "* Jam terbaik untuk publish video youtube adalah diantara jam 3-5 sore\n",
    "* Banyak kata-kata yang muncul pada tags juga muncul pada judul video (seperti: 'video', 'official', 'trailer', 'challenge' dan banyak lagi. Ini adalah hal yang masuk akal karena tags digunakan untuk memudahkan viewers untuk mencari video berdasarkan keyword tertentu. \n",
    "* Mayoritas video trending di youtube memiliki panjang description dibawah 1000 huruf. \n",
    "\n",
    "\n",
    "Rekomendasi:\n",
    "* Judul video sebisa mungkin berkisar antara 30-50 huruf \n",
    "* Tema video yang dibuat jika bisa dibuat mengikuti 3 kategori paling sering trending, yaitu kategori \"Entertainment\", \"Music\", atau \"HowTo&Style\"\n",
    "* Cari ide-ide video yang memiliki unsur kolaboratif, seperti \"challenge dalam sebuah game bersama bintang tamu\" atau \"duet nyanyi\",\n",
    "* Upload video di hari rabu, kamis, atau jumat \n",
    "* Upload video di antara jam 3-5 sore\n",
    "* Jangan disable kolom comment maupun rating\n",
    "* Lebih teliti dalam meng-upload video sehingga tidak terjadi error atau di remove\n",
    "* Mayoritas video trending memiliki kurang dari 30 tags"
   ]
  }
 ],
 "metadata": {
  "kernelspec": {
   "display_name": "Python 3",
   "language": "python",
   "name": "python3"
  },
  "language_info": {
   "codemirror_mode": {
    "name": "ipython",
    "version": 3
   },
   "file_extension": ".py",
   "mimetype": "text/x-python",
   "name": "python",
   "nbconvert_exporter": "python",
   "pygments_lexer": "ipython3",
   "version": "3.11.0"
  },
  "orig_nbformat": 4,
  "vscode": {
   "interpreter": {
    "hash": "aee8b7b246df8f9039afb4144a1f6fd8d2ca17a180786b69acc140d282b71a49"
   }
  }
 },
 "nbformat": 4,
 "nbformat_minor": 2
}
